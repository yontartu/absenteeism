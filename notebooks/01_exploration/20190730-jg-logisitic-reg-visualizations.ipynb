{
 "cells": [
  {
   "cell_type": "markdown",
   "metadata": {},
   "source": [
    " <h1>REGRESSIONS  AND TIME SERIES PROJECT</h1> "
   ]
  },
  {
   "cell_type": "markdown",
   "metadata": {},
   "source": [
    "In this project we will be working with a fake absenteeism at work data set, indicating whether or not a particular employee will 'Hit target'. We will try to create a model that will predict whether or not they will miss work based off the features of that employee.\n",
    "\n",
    "This data set contains the following features:\n",
    "* Reason for absence                 \n",
    "* Month of absence                   \n",
    "* Day of the week                    \n",
    "* Seasons                            \n",
    "* Transportation expense             \n",
    "* Distance from Residence to Work    \n",
    "* Service time                       \n",
    "* Age                                \n",
    "* Work load Average/day              \n",
    "* Hit target                         \n",
    "* Disciplinary failure               \n",
    "* Education                          \n",
    "* Son                                \n",
    "* Social drinker                     \n",
    "* Social smoker                      \n",
    "* Pet                                \n",
    "* Weight                             \n",
    "* Height                             \n",
    "* Body mass index                    \n",
    "* Absenteeism time in hours \n",
    "\n",
    "\n",
    "## Import Libraries"
   ]
  },
  {
   "cell_type": "code",
   "execution_count": 1,
   "metadata": {},
   "outputs": [],
   "source": [
    "import pandas as pd\n",
    "import numpy as np\n",
    "import seaborn as sns\n",
    "import json\n",
    "import os\n",
    "import sys\n",
    "import sklearn\n",
    "import matplotlib.pyplot as plt\n",
    "%matplotlib inline\n",
    "from sklearn.metrics import r2_score\n",
    "import statsmodels.api as sm\n",
    "import statsmodels.formula.api as smf\n",
    "\n",
    "from sklearn.linear_model import LinearRegression\n",
    "from sklearn.model_selection import train_test_split\n",
    "from sklearn.metrics import mean_squared_error\n",
    "from sklearn.model_selection import cross_val_score\n",
    "from sklearn.model_selection import KFold\n",
    "from sklearn.feature_selection import RFE\n",
    "from sklearn.preprocessing import StandardScaler"
   ]
  },
  {
   "cell_type": "code",
   "execution_count": 2,
   "metadata": {},
   "outputs": [],
   "source": [
    "df = pd.read_csv('../../data/01_raw/Absenteeism_at_work.csv', delimiter=';')"
   ]
  },
  {
   "cell_type": "code",
   "execution_count": 3,
   "metadata": {
    "scrolled": true
   },
   "outputs": [
    {
     "data": {
      "text/html": [
       "<div>\n",
       "<style scoped>\n",
       "    .dataframe tbody tr th:only-of-type {\n",
       "        vertical-align: middle;\n",
       "    }\n",
       "\n",
       "    .dataframe tbody tr th {\n",
       "        vertical-align: top;\n",
       "    }\n",
       "\n",
       "    .dataframe thead th {\n",
       "        text-align: right;\n",
       "    }\n",
       "</style>\n",
       "<table border=\"1\" class=\"dataframe\">\n",
       "  <thead>\n",
       "    <tr style=\"text-align: right;\">\n",
       "      <th></th>\n",
       "      <th>ID</th>\n",
       "      <th>Reason for absence</th>\n",
       "      <th>Month of absence</th>\n",
       "      <th>Day of the week</th>\n",
       "      <th>Seasons</th>\n",
       "      <th>Transportation expense</th>\n",
       "      <th>Distance from Residence to Work</th>\n",
       "      <th>Service time</th>\n",
       "      <th>Age</th>\n",
       "      <th>Work load Average/day</th>\n",
       "      <th>...</th>\n",
       "      <th>Disciplinary failure</th>\n",
       "      <th>Education</th>\n",
       "      <th>Son</th>\n",
       "      <th>Social drinker</th>\n",
       "      <th>Social smoker</th>\n",
       "      <th>Pet</th>\n",
       "      <th>Weight</th>\n",
       "      <th>Height</th>\n",
       "      <th>Body mass index</th>\n",
       "      <th>Absenteeism time in hours</th>\n",
       "    </tr>\n",
       "  </thead>\n",
       "  <tbody>\n",
       "    <tr>\n",
       "      <th>count</th>\n",
       "      <td>740.000000</td>\n",
       "      <td>740.000000</td>\n",
       "      <td>740.000000</td>\n",
       "      <td>740.000000</td>\n",
       "      <td>740.000000</td>\n",
       "      <td>740.000000</td>\n",
       "      <td>740.000000</td>\n",
       "      <td>740.000000</td>\n",
       "      <td>740.000000</td>\n",
       "      <td>740.000000</td>\n",
       "      <td>...</td>\n",
       "      <td>740.000000</td>\n",
       "      <td>740.000000</td>\n",
       "      <td>740.000000</td>\n",
       "      <td>740.000000</td>\n",
       "      <td>740.000000</td>\n",
       "      <td>740.000000</td>\n",
       "      <td>740.000000</td>\n",
       "      <td>740.000000</td>\n",
       "      <td>740.000000</td>\n",
       "      <td>740.000000</td>\n",
       "    </tr>\n",
       "    <tr>\n",
       "      <th>mean</th>\n",
       "      <td>18.017568</td>\n",
       "      <td>19.216216</td>\n",
       "      <td>6.324324</td>\n",
       "      <td>3.914865</td>\n",
       "      <td>2.544595</td>\n",
       "      <td>221.329730</td>\n",
       "      <td>29.631081</td>\n",
       "      <td>12.554054</td>\n",
       "      <td>36.450000</td>\n",
       "      <td>271.490235</td>\n",
       "      <td>...</td>\n",
       "      <td>0.054054</td>\n",
       "      <td>1.291892</td>\n",
       "      <td>1.018919</td>\n",
       "      <td>0.567568</td>\n",
       "      <td>0.072973</td>\n",
       "      <td>0.745946</td>\n",
       "      <td>79.035135</td>\n",
       "      <td>172.114865</td>\n",
       "      <td>26.677027</td>\n",
       "      <td>6.924324</td>\n",
       "    </tr>\n",
       "    <tr>\n",
       "      <th>std</th>\n",
       "      <td>11.021247</td>\n",
       "      <td>8.433406</td>\n",
       "      <td>3.436287</td>\n",
       "      <td>1.421675</td>\n",
       "      <td>1.111831</td>\n",
       "      <td>66.952223</td>\n",
       "      <td>14.836788</td>\n",
       "      <td>4.384873</td>\n",
       "      <td>6.478772</td>\n",
       "      <td>39.058116</td>\n",
       "      <td>...</td>\n",
       "      <td>0.226277</td>\n",
       "      <td>0.673238</td>\n",
       "      <td>1.098489</td>\n",
       "      <td>0.495749</td>\n",
       "      <td>0.260268</td>\n",
       "      <td>1.318258</td>\n",
       "      <td>12.883211</td>\n",
       "      <td>6.034995</td>\n",
       "      <td>4.285452</td>\n",
       "      <td>13.330998</td>\n",
       "    </tr>\n",
       "    <tr>\n",
       "      <th>min</th>\n",
       "      <td>1.000000</td>\n",
       "      <td>0.000000</td>\n",
       "      <td>0.000000</td>\n",
       "      <td>2.000000</td>\n",
       "      <td>1.000000</td>\n",
       "      <td>118.000000</td>\n",
       "      <td>5.000000</td>\n",
       "      <td>1.000000</td>\n",
       "      <td>27.000000</td>\n",
       "      <td>205.917000</td>\n",
       "      <td>...</td>\n",
       "      <td>0.000000</td>\n",
       "      <td>1.000000</td>\n",
       "      <td>0.000000</td>\n",
       "      <td>0.000000</td>\n",
       "      <td>0.000000</td>\n",
       "      <td>0.000000</td>\n",
       "      <td>56.000000</td>\n",
       "      <td>163.000000</td>\n",
       "      <td>19.000000</td>\n",
       "      <td>0.000000</td>\n",
       "    </tr>\n",
       "    <tr>\n",
       "      <th>25%</th>\n",
       "      <td>9.000000</td>\n",
       "      <td>13.000000</td>\n",
       "      <td>3.000000</td>\n",
       "      <td>3.000000</td>\n",
       "      <td>2.000000</td>\n",
       "      <td>179.000000</td>\n",
       "      <td>16.000000</td>\n",
       "      <td>9.000000</td>\n",
       "      <td>31.000000</td>\n",
       "      <td>244.387000</td>\n",
       "      <td>...</td>\n",
       "      <td>0.000000</td>\n",
       "      <td>1.000000</td>\n",
       "      <td>0.000000</td>\n",
       "      <td>0.000000</td>\n",
       "      <td>0.000000</td>\n",
       "      <td>0.000000</td>\n",
       "      <td>69.000000</td>\n",
       "      <td>169.000000</td>\n",
       "      <td>24.000000</td>\n",
       "      <td>2.000000</td>\n",
       "    </tr>\n",
       "    <tr>\n",
       "      <th>50%</th>\n",
       "      <td>18.000000</td>\n",
       "      <td>23.000000</td>\n",
       "      <td>6.000000</td>\n",
       "      <td>4.000000</td>\n",
       "      <td>3.000000</td>\n",
       "      <td>225.000000</td>\n",
       "      <td>26.000000</td>\n",
       "      <td>13.000000</td>\n",
       "      <td>37.000000</td>\n",
       "      <td>264.249000</td>\n",
       "      <td>...</td>\n",
       "      <td>0.000000</td>\n",
       "      <td>1.000000</td>\n",
       "      <td>1.000000</td>\n",
       "      <td>1.000000</td>\n",
       "      <td>0.000000</td>\n",
       "      <td>0.000000</td>\n",
       "      <td>83.000000</td>\n",
       "      <td>170.000000</td>\n",
       "      <td>25.000000</td>\n",
       "      <td>3.000000</td>\n",
       "    </tr>\n",
       "    <tr>\n",
       "      <th>75%</th>\n",
       "      <td>28.000000</td>\n",
       "      <td>26.000000</td>\n",
       "      <td>9.000000</td>\n",
       "      <td>5.000000</td>\n",
       "      <td>4.000000</td>\n",
       "      <td>260.000000</td>\n",
       "      <td>50.000000</td>\n",
       "      <td>16.000000</td>\n",
       "      <td>40.000000</td>\n",
       "      <td>294.217000</td>\n",
       "      <td>...</td>\n",
       "      <td>0.000000</td>\n",
       "      <td>1.000000</td>\n",
       "      <td>2.000000</td>\n",
       "      <td>1.000000</td>\n",
       "      <td>0.000000</td>\n",
       "      <td>1.000000</td>\n",
       "      <td>89.000000</td>\n",
       "      <td>172.000000</td>\n",
       "      <td>31.000000</td>\n",
       "      <td>8.000000</td>\n",
       "    </tr>\n",
       "    <tr>\n",
       "      <th>max</th>\n",
       "      <td>36.000000</td>\n",
       "      <td>28.000000</td>\n",
       "      <td>12.000000</td>\n",
       "      <td>6.000000</td>\n",
       "      <td>4.000000</td>\n",
       "      <td>388.000000</td>\n",
       "      <td>52.000000</td>\n",
       "      <td>29.000000</td>\n",
       "      <td>58.000000</td>\n",
       "      <td>378.884000</td>\n",
       "      <td>...</td>\n",
       "      <td>1.000000</td>\n",
       "      <td>4.000000</td>\n",
       "      <td>4.000000</td>\n",
       "      <td>1.000000</td>\n",
       "      <td>1.000000</td>\n",
       "      <td>8.000000</td>\n",
       "      <td>108.000000</td>\n",
       "      <td>196.000000</td>\n",
       "      <td>38.000000</td>\n",
       "      <td>120.000000</td>\n",
       "    </tr>\n",
       "  </tbody>\n",
       "</table>\n",
       "<p>8 rows × 21 columns</p>\n",
       "</div>"
      ],
      "text/plain": [
       "               ID  Reason for absence  Month of absence  Day of the week  \\\n",
       "count  740.000000          740.000000        740.000000       740.000000   \n",
       "mean    18.017568           19.216216          6.324324         3.914865   \n",
       "std     11.021247            8.433406          3.436287         1.421675   \n",
       "min      1.000000            0.000000          0.000000         2.000000   \n",
       "25%      9.000000           13.000000          3.000000         3.000000   \n",
       "50%     18.000000           23.000000          6.000000         4.000000   \n",
       "75%     28.000000           26.000000          9.000000         5.000000   \n",
       "max     36.000000           28.000000         12.000000         6.000000   \n",
       "\n",
       "          Seasons  Transportation expense  Distance from Residence to Work  \\\n",
       "count  740.000000              740.000000                       740.000000   \n",
       "mean     2.544595              221.329730                        29.631081   \n",
       "std      1.111831               66.952223                        14.836788   \n",
       "min      1.000000              118.000000                         5.000000   \n",
       "25%      2.000000              179.000000                        16.000000   \n",
       "50%      3.000000              225.000000                        26.000000   \n",
       "75%      4.000000              260.000000                        50.000000   \n",
       "max      4.000000              388.000000                        52.000000   \n",
       "\n",
       "       Service time         Age  Work load Average/day   ...  \\\n",
       "count    740.000000  740.000000              740.000000  ...   \n",
       "mean      12.554054   36.450000              271.490235  ...   \n",
       "std        4.384873    6.478772               39.058116  ...   \n",
       "min        1.000000   27.000000              205.917000  ...   \n",
       "25%        9.000000   31.000000              244.387000  ...   \n",
       "50%       13.000000   37.000000              264.249000  ...   \n",
       "75%       16.000000   40.000000              294.217000  ...   \n",
       "max       29.000000   58.000000              378.884000  ...   \n",
       "\n",
       "       Disciplinary failure   Education         Son  Social drinker  \\\n",
       "count            740.000000  740.000000  740.000000      740.000000   \n",
       "mean               0.054054    1.291892    1.018919        0.567568   \n",
       "std                0.226277    0.673238    1.098489        0.495749   \n",
       "min                0.000000    1.000000    0.000000        0.000000   \n",
       "25%                0.000000    1.000000    0.000000        0.000000   \n",
       "50%                0.000000    1.000000    1.000000        1.000000   \n",
       "75%                0.000000    1.000000    2.000000        1.000000   \n",
       "max                1.000000    4.000000    4.000000        1.000000   \n",
       "\n",
       "       Social smoker         Pet      Weight      Height  Body mass index  \\\n",
       "count     740.000000  740.000000  740.000000  740.000000       740.000000   \n",
       "mean        0.072973    0.745946   79.035135  172.114865        26.677027   \n",
       "std         0.260268    1.318258   12.883211    6.034995         4.285452   \n",
       "min         0.000000    0.000000   56.000000  163.000000        19.000000   \n",
       "25%         0.000000    0.000000   69.000000  169.000000        24.000000   \n",
       "50%         0.000000    0.000000   83.000000  170.000000        25.000000   \n",
       "75%         0.000000    1.000000   89.000000  172.000000        31.000000   \n",
       "max         1.000000    8.000000  108.000000  196.000000        38.000000   \n",
       "\n",
       "       Absenteeism time in hours  \n",
       "count                 740.000000  \n",
       "mean                    6.924324  \n",
       "std                    13.330998  \n",
       "min                     0.000000  \n",
       "25%                     2.000000  \n",
       "50%                     3.000000  \n",
       "75%                     8.000000  \n",
       "max                   120.000000  \n",
       "\n",
       "[8 rows x 21 columns]"
      ]
     },
     "execution_count": 3,
     "metadata": {},
     "output_type": "execute_result"
    }
   ],
   "source": [
    "df.describe()"
   ]
  },
  {
   "cell_type": "code",
   "execution_count": 4,
   "metadata": {},
   "outputs": [
    {
     "data": {
      "text/plain": [
       "(740, 21)"
      ]
     },
     "execution_count": 4,
     "metadata": {},
     "output_type": "execute_result"
    }
   ],
   "source": [
    "df.shape"
   ]
  },
  {
   "cell_type": "code",
   "execution_count": 5,
   "metadata": {
    "scrolled": false
   },
   "outputs": [
    {
     "data": {
      "text/plain": [
       "ID                                 0\n",
       "Reason for absence                 0\n",
       "Month of absence                   0\n",
       "Day of the week                    0\n",
       "Seasons                            0\n",
       "Transportation expense             0\n",
       "Distance from Residence to Work    0\n",
       "Service time                       0\n",
       "Age                                0\n",
       "Work load Average/day              0\n",
       "Hit target                         0\n",
       "Disciplinary failure               0\n",
       "Education                          0\n",
       "Son                                0\n",
       "Social drinker                     0\n",
       "Social smoker                      0\n",
       "Pet                                0\n",
       "Weight                             0\n",
       "Height                             0\n",
       "Body mass index                    0\n",
       "Absenteeism time in hours          0\n",
       "dtype: int64"
      ]
     },
     "execution_count": 5,
     "metadata": {},
     "output_type": "execute_result"
    }
   ],
   "source": [
    "df.isna().sum()"
   ]
  },
  {
   "cell_type": "markdown",
   "metadata": {},
   "source": [
    "# Exploratory Data Analysis"
   ]
  },
  {
   "cell_type": "markdown",
   "metadata": {},
   "source": [
    "* For the rest of the exercise we'll only be using the numerical data of the csv file.\n",
    "**Use seaborn to create a jointplot to compare the Number children an employee has and the Absenteeism time in hours columns. Does the correlation make sense?**\n"
   ]
  },
  {
   "cell_type": "code",
   "execution_count": 6,
   "metadata": {},
   "outputs": [
    {
     "data": {
      "text/plain": [
       "<seaborn.axisgrid.JointGrid at 0xf305930>"
      ]
     },
     "execution_count": 6,
     "metadata": {},
     "output_type": "execute_result"
    },
    {
     "data": {
      "image/png": "[encoded data removed]",
      "text/plain": [
       "<Figure size 432x432 with 3 Axes>"
      ]
     },
     "metadata": {
      "needs_background": "light"
     },
     "output_type": "display_data"
    }
   ],
   "source": [
    "sns.jointplot(x='Son', y='Absenteeism time in hours', data=df, color='red', kind='kde')"
   ]
  },
  {
   "cell_type": "code",
   "execution_count": 7,
   "metadata": {},
   "outputs": [],
   "source": [
    "#sns.jointplot(x='Transportation expense', y='Hit target', data=df, color='red', kind='kde')"
   ]
  },
  {
   "cell_type": "markdown",
   "metadata": {},
   "source": [
    "# Creating a countplot for the group age of employees"
   ]
  },
  {
   "cell_type": "code",
   "execution_count": 8,
   "metadata": {},
   "outputs": [
    {
     "data": {
      "text/plain": [
       "Text(0.5, 0, 'Age')"
      ]
     },
     "execution_count": 8,
     "metadata": {},
     "output_type": "execute_result"
    },
    {
     "data": {
      "image/png": "[encoded data removed]",
      "text/plain": [
       "<Figure size 432x288 with 1 Axes>"
      ]
     },
     "metadata": {},
     "output_type": "display_data"
    }
   ],
   "source": [
    "sns.set_style('whitegrid')\n",
    "df['Age'].hist(bins=20)\n",
    "plt.xlabel('Age')"
   ]
  },
  {
   "cell_type": "code",
   "execution_count": 9,
   "metadata": {},
   "outputs": [],
   "source": [
    "#sns.pairplot(df,hue='Disciplinary failure',palette='bwr')"
   ]
  },
  {
   "cell_type": "code",
   "execution_count": 10,
   "metadata": {},
   "outputs": [],
   "source": [
    "#plt.show()"
   ]
  },
  {
   "cell_type": "code",
   "execution_count": 11,
   "metadata": {},
   "outputs": [],
   "source": [
    "#sns.jointplot(x='Service time',y='Hit target',data=df)"
   ]
  },
  {
   "cell_type": "markdown",
   "metadata": {},
   "source": [
    "# Creating a count plot for the reasons of absence"
   ]
  },
  {
   "cell_type": "code",
   "execution_count": 12,
   "metadata": {
    "scrolled": false
   },
   "outputs": [
    {
     "data": {
      "text/plain": [
       "(array([  0.,  20.,  40.,  60.,  80., 100., 120., 140., 160.]),\n",
       " <a list of 9 Text yticklabel objects>)"
      ]
     },
     "execution_count": 12,
     "metadata": {},
     "output_type": "execute_result"
    },
    {
     "data": {
      "image/png": "[encoded data removed]",
      "text/plain": [
       "<Figure size 864x576 with 1 Axes>"
      ]
     },
     "metadata": {},
     "output_type": "display_data"
    }
   ],
   "source": [
    "plt.figure(figsize=(12,8))\n",
    "sns.countplot(x='Reason for absence',data=df,palette='viridis')\n",
    "plt.xlabel('Reasons for absence', fontsize=20)\n",
    "plt.ylabel('Count', fontsize=20)\n",
    "plt.xticks(fontsize=1)\n",
    "plt.yticks(fontsize=14)"
   ]
  },
  {
   "cell_type": "markdown",
   "metadata": {},
   "source": [
    "## Interpretation of some reasons of absence\n",
    "* medical consultation (23), blood donation (24), laboratory examination (25), unjustified absence (26), physiotherapy (27), dental consultation (28)\n",
    "\n"
   ]
  },
  {
   "cell_type": "markdown",
   "metadata": {},
   "source": [
    "# Creating new features"
   ]
  },
  {
   "cell_type": "code",
   "execution_count": 13,
   "metadata": {},
   "outputs": [],
   "source": [
    "# df['Month'] = pd.to_datetime(df['Month of absence'])\n",
    "# df['Day of Week'] = pd.to_datetime(df['Day of Week'])"
   ]
  },
  {
   "cell_type": "code",
   "execution_count": 14,
   "metadata": {},
   "outputs": [],
   "source": [
    "#df['Hour'] = df['timeStamp'].apply(lambda time: time.hour)\n",
    "# df['Month'] = df['Month of absence'].apply(lambda time: time.month)\n",
    "# df['Day of Week'] = df['Day of the week'].apply(lambda time: time.dayofweek)"
   ]
  },
  {
   "cell_type": "code",
   "execution_count": 15,
   "metadata": {},
   "outputs": [],
   "source": [
    "#dmap = {1:'Sun',2:'Mon',3:'Tue',4:'Wed',5:'Thu',6:'Fri'}"
   ]
  },
  {
   "cell_type": "code",
   "execution_count": 16,
   "metadata": {},
   "outputs": [],
   "source": [
    "#df['Day of the week'] = df['Day of the week'].map(dmap)"
   ]
  },
  {
   "cell_type": "code",
   "execution_count": 17,
   "metadata": {},
   "outputs": [],
   "source": [
    "#dmap = {1:'summer',2:'autumn',3:'winter',4:'spring'}"
   ]
  },
  {
   "cell_type": "code",
   "execution_count": 18,
   "metadata": {},
   "outputs": [],
   "source": [
    "#df['Absenteeism time in hours '] = pd.to_numeric(df['Absenteeism time in hours'])"
   ]
  },
  {
   "cell_type": "code",
   "execution_count": 19,
   "metadata": {},
   "outputs": [],
   "source": [
    "#df['Seasons'] = df['Seasons'].map(dmap)"
   ]
  },
  {
   "cell_type": "code",
   "execution_count": 20,
   "metadata": {},
   "outputs": [
    {
     "name": "stdout",
     "output_type": "stream",
     "text": [
      "(740, 29)\n"
     ]
    }
   ],
   "source": [
    "df['medical_consult_dummy'] = (df['Reason for absence'] == 23).astype(int)\n",
    "df['dental_consult_dummy'] = (df['Reason for absence'] == 28).astype(int)\n",
    "df['genitourinary_dummy'] = (df['Reason for absence'] == 14).astype(int)\n",
    "dow = pd.get_dummies(df['Day of the week'])\n",
    "dow.columns = ['mon_dummy', 'tue_dummy', 'wed_dummy', 'thu_dummy' ,'fri_dummy']\n",
    "df = pd.concat([df, dow], axis=1)\n",
    "print(df.shape)"
   ]
  },
  {
   "cell_type": "code",
   "execution_count": 21,
   "metadata": {},
   "outputs": [],
   "source": [
    "df.columns = df.columns.str.replace(' ', '_')  # remove spaces from column titles"
   ]
  },
  {
   "cell_type": "markdown",
   "metadata": {},
   "source": [
    "#### Dropping rows where Absenteeism time in hours is equal or greater than 24"
   ]
  },
  {
   "cell_type": "code",
   "execution_count": 22,
   "metadata": {
    "scrolled": true
   },
   "outputs": [
    {
     "data": {
      "text/plain": [
       "ID                                 0\n",
       "Reason_for_absence                 0\n",
       "Month_of_absence                   0\n",
       "Day_of_the_week                    0\n",
       "Seasons                            0\n",
       "Transportation_expense             0\n",
       "Distance_from_Residence_to_Work    0\n",
       "Service_time                       0\n",
       "Age                                0\n",
       "Work_load_Average/day_             0\n",
       "Hit_target                         0\n",
       "Disciplinary_failure               0\n",
       "Education                          0\n",
       "Son                                0\n",
       "Social_drinker                     0\n",
       "Social_smoker                      0\n",
       "Pet                                0\n",
       "Weight                             0\n",
       "Height                             0\n",
       "Body_mass_index                    0\n",
       "Absenteeism_time_in_hours          0\n",
       "medical_consult_dummy              0\n",
       "dental_consult_dummy               0\n",
       "genitourinary_dummy                0\n",
       "mon_dummy                          0\n",
       "tue_dummy                          0\n",
       "wed_dummy                          0\n",
       "thu_dummy                          0\n",
       "fri_dummy                          0\n",
       "dtype: int64"
      ]
     },
     "execution_count": 22,
     "metadata": {},
     "output_type": "execute_result"
    }
   ],
   "source": [
    "df1 = df[df['Absenteeism_time_in_hours'] < 24]\n",
    "#df1.fillna(value=0, inplace=True)\n",
    "df.isna().sum()"
   ]
  },
  {
   "cell_type": "code",
   "execution_count": 23,
   "metadata": {},
   "outputs": [],
   "source": [
    "#df1.groupby('ID')['Absenteeism_time_in_hours']"
   ]
  },
  {
   "cell_type": "code",
   "execution_count": 24,
   "metadata": {},
   "outputs": [
    {
     "name": "stdout",
     "output_type": "stream",
     "text": [
      "(696, 29)\n"
     ]
    }
   ],
   "source": [
    "print(df1.shape)"
   ]
  },
  {
   "cell_type": "code",
   "execution_count": 25,
   "metadata": {},
   "outputs": [
    {
     "data": {
      "text/plain": [
       "Index(['ID', 'Reason_for_absence', 'Month_of_absence', 'Day_of_the_week',\n",
       "       'Seasons', 'Transportation_expense', 'Distance_from_Residence_to_Work',\n",
       "       'Service_time', 'Age', 'Work_load_Average/day_', 'Hit_target',\n",
       "       'Disciplinary_failure', 'Education', 'Son', 'Social_drinker',\n",
       "       'Social_smoker', 'Pet', 'Weight', 'Height', 'Body_mass_index',\n",
       "       'Absenteeism_time_in_hours', 'medical_consult_dummy',\n",
       "       'dental_consult_dummy', 'genitourinary_dummy', 'mon_dummy', 'tue_dummy',\n",
       "       'wed_dummy', 'thu_dummy', 'fri_dummy'],\n",
       "      dtype='object')"
      ]
     },
     "execution_count": 25,
     "metadata": {},
     "output_type": "execute_result"
    }
   ],
   "source": [
    "df1.columns"
   ]
  },
  {
   "cell_type": "markdown",
   "metadata": {},
   "source": [
    "## Train-test-split"
   ]
  },
  {
   "cell_type": "code",
   "execution_count": 26,
   "metadata": {},
   "outputs": [],
   "source": [
    "# removed 3 variables: the target, \"reason\" and \"day of week\" (both of which we dummied)\n",
    "# removed 3 more vars: 'tue_dummy' (for collinearity issues), 'Weight', 'Height' (also for collinearity issues)\n",
    "X = df1[['Month_of_absence','Seasons', 'Transportation_expense', 'Distance_from_Residence_to_Work',\n",
    "       'Service_time', 'Age', 'Work_load_Average/day_', 'Hit_target',\n",
    "       'Disciplinary_failure', 'Education', 'Son', 'Social_drinker',\n",
    "       'Social_smoker', 'Pet', 'Body_mass_index', 'medical_consult_dummy',\n",
    "       'dental_consult_dummy', 'genitourinary_dummy', 'mon_dummy', \n",
    "       'wed_dummy', 'thu_dummy', 'fri_dummy']]"
   ]
  },
  {
   "cell_type": "code",
   "execution_count": 27,
   "metadata": {},
   "outputs": [],
   "source": [
    "y = df1['Absenteeism_time_in_hours']"
   ]
  },
  {
   "cell_type": "code",
   "execution_count": 28,
   "metadata": {},
   "outputs": [],
   "source": [
    "X_train, X_test, y_train, y_test = train_test_split(X, y, test_size=0.3, random_state=101)"
   ]
  },
  {
   "cell_type": "markdown",
   "metadata": {},
   "source": [
    "#### Split `X_train` into `X_train_dummy` (for categorical variables) and `X_train_cont` (for continuous variables)"
   ]
  },
  {
   "cell_type": "code",
   "execution_count": 29,
   "metadata": {},
   "outputs": [
    {
     "data": {
      "text/plain": [
       "(487, 22)"
      ]
     },
     "execution_count": 29,
     "metadata": {},
     "output_type": "execute_result"
    }
   ],
   "source": [
    "X_train = X_train.reset_index(drop=True)  # reset index so .concat() words\n",
    "X_train.shape"
   ]
  },
  {
   "cell_type": "code",
   "execution_count": 30,
   "metadata": {},
   "outputs": [
    {
     "data": {
      "text/plain": [
       "(487, 15)"
      ]
     },
     "execution_count": 30,
     "metadata": {},
     "output_type": "execute_result"
    }
   ],
   "source": [
    "# 'tue_dummy', \n",
    "X_train_dummy = X_train[['Month_of_absence','Seasons','Disciplinary_failure','medical_consult_dummy', 'dental_consult_dummy', 'genitourinary_dummy',\n",
    "       'mon_dummy', 'wed_dummy', 'thu_dummy', 'fri_dummy','Social_drinker', 'Social_smoker', \n",
    "       'Education', 'Son', 'Pet']]\n",
    "X_train_dummy.shape"
   ]
  },
  {
   "cell_type": "code",
   "execution_count": 31,
   "metadata": {},
   "outputs": [
    {
     "data": {
      "text/plain": [
       "(487, 7)"
      ]
     },
     "execution_count": 31,
     "metadata": {},
     "output_type": "execute_result"
    }
   ],
   "source": [
    "# 'Weight', 'Height',\n",
    "X_train_cont = X_train[['Transportation_expense','Distance_from_Residence_to_Work', \n",
    "                        'Service_time', 'Age','Work_load_Average/day_', 'Hit_target', 'Body_mass_index']]\n",
    "X_train_cont.shape"
   ]
  },
  {
   "cell_type": "markdown",
   "metadata": {},
   "source": [
    "#### Split `X_test` into `X_test_dummy` (for categorical variables) and `X_test_cont` (for continuous variables)"
   ]
  },
  {
   "cell_type": "code",
   "execution_count": 32,
   "metadata": {},
   "outputs": [
    {
     "data": {
      "text/plain": [
       "(209, 22)"
      ]
     },
     "execution_count": 32,
     "metadata": {},
     "output_type": "execute_result"
    }
   ],
   "source": [
    "X_test = X_test.reset_index(drop=True)  # reset index so .concat() works\n",
    "X_test.shape"
   ]
  },
  {
   "cell_type": "code",
   "execution_count": 33,
   "metadata": {},
   "outputs": [
    {
     "data": {
      "text/plain": [
       "(209, 15)"
      ]
     },
     "execution_count": 33,
     "metadata": {},
     "output_type": "execute_result"
    }
   ],
   "source": [
    "# 'tue_dummy', \n",
    "X_test_dummy = X_test[['Month_of_absence','Seasons','Disciplinary_failure','medical_consult_dummy', 'dental_consult_dummy', 'genitourinary_dummy',\n",
    "       'mon_dummy', 'wed_dummy', 'thu_dummy', 'fri_dummy','Social_drinker', 'Social_smoker', \n",
    "       'Education', 'Son', 'Pet']]\n",
    "X_test_dummy.shape"
   ]
  },
  {
   "cell_type": "code",
   "execution_count": 34,
   "metadata": {},
   "outputs": [
    {
     "data": {
      "text/plain": [
       "(209, 7)"
      ]
     },
     "execution_count": 34,
     "metadata": {},
     "output_type": "execute_result"
    }
   ],
   "source": [
    "# 'Weight', 'Height', \n",
    "X_test_cont = X_test[['Transportation_expense','Distance_from_Residence_to_Work', 'Service_time', 'Age',\n",
    "                      'Work_load_Average/day_', 'Hit_target', 'Body_mass_index']]\n",
    "X_test_cont.shape"
   ]
  },
  {
   "cell_type": "markdown",
   "metadata": {},
   "source": [
    "#### Scale `X_train_cont` and `X_test_cont`"
   ]
  },
  {
   "cell_type": "code",
   "execution_count": 35,
   "metadata": {},
   "outputs": [],
   "source": [
    "scaler = StandardScaler()"
   ]
  },
  {
   "cell_type": "code",
   "execution_count": 36,
   "metadata": {
    "scrolled": true
   },
   "outputs": [],
   "source": [
    "# fit and transform training data\n",
    "scaler.fit(X_train_cont)\n",
    "X_train_cont_scaled = scaler.transform(X_train_cont)\n",
    "X_train_cont_scaled = pd.DataFrame(X_train_cont_scaled, columns=X_train_cont.columns)"
   ]
  },
  {
   "cell_type": "code",
   "execution_count": 37,
   "metadata": {},
   "outputs": [],
   "source": [
    "# just transform the testing data\n",
    "X_test_cont_scaled = scaler.transform(X_test_cont)\n",
    "X_test_cont_scaled = pd.DataFrame(X_test_cont_scaled, columns=X_test_cont.columns)"
   ]
  },
  {
   "cell_type": "markdown",
   "metadata": {},
   "source": [
    "#### Combine `X_train_dummy` and `X_train_cont_scaled`"
   ]
  },
  {
   "cell_type": "code",
   "execution_count": 38,
   "metadata": {
    "scrolled": true
   },
   "outputs": [
    {
     "name": "stdout",
     "output_type": "stream",
     "text": [
      "(487, 7)\n",
      "(487, 15)\n"
     ]
    }
   ],
   "source": [
    "print(X_train_cont_scaled.shape)\n",
    "print(X_train_dummy.shape)"
   ]
  },
  {
   "cell_type": "code",
   "execution_count": 39,
   "metadata": {},
   "outputs": [
    {
     "data": {
      "text/plain": [
       "(487, 22)"
      ]
     },
     "execution_count": 39,
     "metadata": {},
     "output_type": "execute_result"
    }
   ],
   "source": [
    "X_train_scaled = pd.concat([X_train_dummy, X_train_cont_scaled], axis=1)\n",
    "X_train_scaled.shape"
   ]
  },
  {
   "cell_type": "markdown",
   "metadata": {},
   "source": [
    "#### Combine `X_test_dummy` and `X_test_cont_scaled`"
   ]
  },
  {
   "cell_type": "code",
   "execution_count": 40,
   "metadata": {},
   "outputs": [
    {
     "name": "stdout",
     "output_type": "stream",
     "text": [
      "(209, 7)\n",
      "(209, 15)\n"
     ]
    }
   ],
   "source": [
    "print(X_test_cont_scaled.shape)\n",
    "print(X_test_dummy.shape)"
   ]
  },
  {
   "cell_type": "code",
   "execution_count": 41,
   "metadata": {},
   "outputs": [
    {
     "data": {
      "text/plain": [
       "(209, 22)"
      ]
     },
     "execution_count": 41,
     "metadata": {},
     "output_type": "execute_result"
    }
   ],
   "source": [
    "X_test_scaled = pd.concat([X_test_dummy, X_test_cont_scaled], axis=1)\n",
    "X_test_scaled.shape"
   ]
  },
  {
   "cell_type": "markdown",
   "metadata": {},
   "source": [
    "## Linear Regression\n",
    "\n",
    "Using `X_train_scaled` and `X_test_scaled`"
   ]
  },
  {
   "cell_type": "code",
   "execution_count": 42,
   "metadata": {},
   "outputs": [
    {
     "data": {
      "text/plain": [
       "(487, 22)"
      ]
     },
     "execution_count": 42,
     "metadata": {},
     "output_type": "execute_result"
    }
   ],
   "source": [
    "X_train_scaled.shape"
   ]
  },
  {
   "cell_type": "code",
   "execution_count": 43,
   "metadata": {},
   "outputs": [],
   "source": [
    "linreg = LinearRegression()\n",
    "model1 = linreg.fit(X_train_scaled, y_train)\n",
    "y_pred = linreg.predict(X_test_scaled)"
   ]
  },
  {
   "cell_type": "code",
   "execution_count": 44,
   "metadata": {},
   "outputs": [
    {
     "data": {
      "text/plain": [
       "2.9223432512429963"
      ]
     },
     "execution_count": 44,
     "metadata": {},
     "output_type": "execute_result"
    }
   ],
   "source": [
    "np.sqrt(mean_squared_error(y_test, y_pred))"
   ]
  },
  {
   "cell_type": "code",
   "execution_count": 45,
   "metadata": {},
   "outputs": [
    {
     "data": {
      "text/plain": [
       "0.24857047236150986"
      ]
     },
     "execution_count": 45,
     "metadata": {},
     "output_type": "execute_result"
    }
   ],
   "source": [
    "r2_score(y_test, y_pred)"
   ]
  },
  {
   "cell_type": "markdown",
   "metadata": {},
   "source": [
    "#### Look at AIC/BIC using `statsmodels`"
   ]
  },
  {
   "cell_type": "code",
   "execution_count": 46,
   "metadata": {
    "scrolled": false
   },
   "outputs": [
    {
     "data": {
      "text/html": [
       "<table class=\"simpletable\">\n",
       "<caption>OLS Regression Results</caption>\n",
       "<tr>\n",
       "  <th>Dep. Variable:</th>            <td>y</td>        <th>  R-squared (uncentered):</th>      <td>   0.721</td> \n",
       "</tr>\n",
       "<tr>\n",
       "  <th>Model:</th>                   <td>OLS</td>       <th>  Adj. R-squared (uncentered):</th> <td>   0.708</td> \n",
       "</tr>\n",
       "<tr>\n",
       "  <th>Method:</th>             <td>Least Squares</td>  <th>  F-statistic:       </th>          <td>   54.58</td> \n",
       "</tr>\n",
       "<tr>\n",
       "  <th>Date:</th>             <td>Tue, 30 Jul 2019</td> <th>  Prob (F-statistic):</th>          <td>8.85e-114</td>\n",
       "</tr>\n",
       "<tr>\n",
       "  <th>Time:</th>                 <td>15:30:17</td>     <th>  Log-Likelihood:    </th>          <td> -1219.2</td> \n",
       "</tr>\n",
       "<tr>\n",
       "  <th>No. Observations:</th>      <td>   487</td>      <th>  AIC:               </th>          <td>   2482.</td> \n",
       "</tr>\n",
       "<tr>\n",
       "  <th>Df Residuals:</th>          <td>   465</td>      <th>  BIC:               </th>          <td>   2575.</td> \n",
       "</tr>\n",
       "<tr>\n",
       "  <th>Df Model:</th>              <td>    22</td>      <th>                     </th>              <td> </td>    \n",
       "</tr>\n",
       "<tr>\n",
       "  <th>Covariance Type:</th>      <td>nonrobust</td>    <th>                     </th>              <td> </td>    \n",
       "</tr>\n",
       "</table>\n",
       "<table class=\"simpletable\">\n",
       "<tr>\n",
       "                 <td></td>                    <th>coef</th>     <th>std err</th>      <th>t</th>      <th>P>|t|</th>  <th>[0.025</th>    <th>0.975]</th>  \n",
       "</tr>\n",
       "<tr>\n",
       "  <th>Month_of_absence</th>                <td>    0.1628</td> <td>    0.052</td> <td>    3.102</td> <td> 0.002</td> <td>    0.060</td> <td>    0.266</td>\n",
       "</tr>\n",
       "<tr>\n",
       "  <th>Seasons</th>                         <td>    0.2073</td> <td>    0.139</td> <td>    1.493</td> <td> 0.136</td> <td>   -0.065</td> <td>    0.480</td>\n",
       "</tr>\n",
       "<tr>\n",
       "  <th>Disciplinary_failure</th>            <td>   -6.5533</td> <td>    0.635</td> <td>  -10.322</td> <td> 0.000</td> <td>   -7.801</td> <td>   -5.306</td>\n",
       "</tr>\n",
       "<tr>\n",
       "  <th>medical_consult_dummy</th>           <td>   -2.3240</td> <td>    0.368</td> <td>   -6.313</td> <td> 0.000</td> <td>   -3.047</td> <td>   -1.601</td>\n",
       "</tr>\n",
       "<tr>\n",
       "  <th>dental_consult_dummy</th>            <td>   -2.7981</td> <td>    0.425</td> <td>   -6.587</td> <td> 0.000</td> <td>   -3.633</td> <td>   -1.963</td>\n",
       "</tr>\n",
       "<tr>\n",
       "  <th>genitourinary_dummy</th>             <td>   -0.5093</td> <td>    0.896</td> <td>   -0.568</td> <td> 0.570</td> <td>   -2.270</td> <td>    1.252</td>\n",
       "</tr>\n",
       "<tr>\n",
       "  <th>mon_dummy</th>                       <td>    1.2598</td> <td>    0.421</td> <td>    2.995</td> <td> 0.003</td> <td>    0.433</td> <td>    2.086</td>\n",
       "</tr>\n",
       "<tr>\n",
       "  <th>wed_dummy</th>                       <td>    1.0539</td> <td>    0.416</td> <td>    2.531</td> <td> 0.012</td> <td>    0.235</td> <td>    1.872</td>\n",
       "</tr>\n",
       "<tr>\n",
       "  <th>thu_dummy</th>                       <td>    1.0140</td> <td>    0.437</td> <td>    2.322</td> <td> 0.021</td> <td>    0.156</td> <td>    1.872</td>\n",
       "</tr>\n",
       "<tr>\n",
       "  <th>fri_dummy</th>                       <td>    0.2920</td> <td>    0.437</td> <td>    0.669</td> <td> 0.504</td> <td>   -0.566</td> <td>    1.150</td>\n",
       "</tr>\n",
       "<tr>\n",
       "  <th>Social_drinker</th>                  <td>    2.0844</td> <td>    0.341</td> <td>    6.109</td> <td> 0.000</td> <td>    1.414</td> <td>    2.755</td>\n",
       "</tr>\n",
       "<tr>\n",
       "  <th>Social_smoker</th>                   <td>    0.8601</td> <td>    0.576</td> <td>    1.494</td> <td> 0.136</td> <td>   -0.271</td> <td>    1.991</td>\n",
       "</tr>\n",
       "<tr>\n",
       "  <th>Education</th>                       <td>    1.1592</td> <td>    0.195</td> <td>    5.937</td> <td> 0.000</td> <td>    0.776</td> <td>    1.543</td>\n",
       "</tr>\n",
       "<tr>\n",
       "  <th>Son</th>                             <td>    0.5846</td> <td>    0.141</td> <td>    4.147</td> <td> 0.000</td> <td>    0.308</td> <td>    0.862</td>\n",
       "</tr>\n",
       "<tr>\n",
       "  <th>Pet</th>                             <td>   -0.1054</td> <td>    0.124</td> <td>   -0.848</td> <td> 0.397</td> <td>   -0.350</td> <td>    0.139</td>\n",
       "</tr>\n",
       "<tr>\n",
       "  <th>Transportation_expense</th>          <td>    0.5116</td> <td>    0.172</td> <td>    2.967</td> <td> 0.003</td> <td>    0.173</td> <td>    0.850</td>\n",
       "</tr>\n",
       "<tr>\n",
       "  <th>Distance_from_Residence_to_Work</th> <td>   -0.4633</td> <td>    0.193</td> <td>   -2.396</td> <td> 0.017</td> <td>   -0.843</td> <td>   -0.083</td>\n",
       "</tr>\n",
       "<tr>\n",
       "  <th>Service_time</th>                    <td>   -0.3253</td> <td>    0.256</td> <td>   -1.269</td> <td> 0.205</td> <td>   -0.829</td> <td>    0.178</td>\n",
       "</tr>\n",
       "<tr>\n",
       "  <th>Age</th>                             <td>   -0.2969</td> <td>    0.216</td> <td>   -1.375</td> <td> 0.170</td> <td>   -0.721</td> <td>    0.127</td>\n",
       "</tr>\n",
       "<tr>\n",
       "  <th>Work_load_Average/day_</th>          <td>    0.3328</td> <td>    0.151</td> <td>    2.197</td> <td> 0.029</td> <td>    0.035</td> <td>    0.630</td>\n",
       "</tr>\n",
       "<tr>\n",
       "  <th>Hit_target</th>                      <td>   -0.1233</td> <td>    0.163</td> <td>   -0.756</td> <td> 0.450</td> <td>   -0.444</td> <td>    0.197</td>\n",
       "</tr>\n",
       "<tr>\n",
       "  <th>Body_mass_index</th>                 <td>    0.4720</td> <td>    0.197</td> <td>    2.390</td> <td> 0.017</td> <td>    0.084</td> <td>    0.860</td>\n",
       "</tr>\n",
       "</table>\n",
       "<table class=\"simpletable\">\n",
       "<tr>\n",
       "  <th>Omnibus:</th>       <td>106.048</td> <th>  Durbin-Watson:     </th> <td>   2.003</td>\n",
       "</tr>\n",
       "<tr>\n",
       "  <th>Prob(Omnibus):</th> <td> 0.000</td>  <th>  Jarque-Bera (JB):  </th> <td> 252.578</td>\n",
       "</tr>\n",
       "<tr>\n",
       "  <th>Skew:</th>          <td> 1.107</td>  <th>  Prob(JB):          </th> <td>1.42e-55</td>\n",
       "</tr>\n",
       "<tr>\n",
       "  <th>Kurtosis:</th>      <td> 5.746</td>  <th>  Cond. No.          </th> <td>    51.9</td>\n",
       "</tr>\n",
       "</table><br/><br/>Warnings:<br/>[1] Standard Errors assume that the covariance matrix of the errors is correctly specified."
      ],
      "text/plain": [
       "<class 'statsmodels.iolib.summary.Summary'>\n",
       "\"\"\"\n",
       "                                 OLS Regression Results                                \n",
       "=======================================================================================\n",
       "Dep. Variable:                      y   R-squared (uncentered):                   0.721\n",
       "Model:                            OLS   Adj. R-squared (uncentered):              0.708\n",
       "Method:                 Least Squares   F-statistic:                              54.58\n",
       "Date:                Tue, 30 Jul 2019   Prob (F-statistic):                   8.85e-114\n",
       "Time:                        15:30:17   Log-Likelihood:                         -1219.2\n",
       "No. Observations:                 487   AIC:                                      2482.\n",
       "Df Residuals:                     465   BIC:                                      2575.\n",
       "Df Model:                          22                                                  \n",
       "Covariance Type:            nonrobust                                                  \n",
       "===================================================================================================\n",
       "                                      coef    std err          t      P>|t|      [0.025      0.975]\n",
       "---------------------------------------------------------------------------------------------------\n",
       "Month_of_absence                    0.1628      0.052      3.102      0.002       0.060       0.266\n",
       "Seasons                             0.2073      0.139      1.493      0.136      -0.065       0.480\n",
       "Disciplinary_failure               -6.5533      0.635    -10.322      0.000      -7.801      -5.306\n",
       "medical_consult_dummy              -2.3240      0.368     -6.313      0.000      -3.047      -1.601\n",
       "dental_consult_dummy               -2.7981      0.425     -6.587      0.000      -3.633      -1.963\n",
       "genitourinary_dummy                -0.5093      0.896     -0.568      0.570      -2.270       1.252\n",
       "mon_dummy                           1.2598      0.421      2.995      0.003       0.433       2.086\n",
       "wed_dummy                           1.0539      0.416      2.531      0.012       0.235       1.872\n",
       "thu_dummy                           1.0140      0.437      2.322      0.021       0.156       1.872\n",
       "fri_dummy                           0.2920      0.437      0.669      0.504      -0.566       1.150\n",
       "Social_drinker                      2.0844      0.341      6.109      0.000       1.414       2.755\n",
       "Social_smoker                       0.8601      0.576      1.494      0.136      -0.271       1.991\n",
       "Education                           1.1592      0.195      5.937      0.000       0.776       1.543\n",
       "Son                                 0.5846      0.141      4.147      0.000       0.308       0.862\n",
       "Pet                                -0.1054      0.124     -0.848      0.397      -0.350       0.139\n",
       "Transportation_expense              0.5116      0.172      2.967      0.003       0.173       0.850\n",
       "Distance_from_Residence_to_Work    -0.4633      0.193     -2.396      0.017      -0.843      -0.083\n",
       "Service_time                       -0.3253      0.256     -1.269      0.205      -0.829       0.178\n",
       "Age                                -0.2969      0.216     -1.375      0.170      -0.721       0.127\n",
       "Work_load_Average/day_              0.3328      0.151      2.197      0.029       0.035       0.630\n",
       "Hit_target                         -0.1233      0.163     -0.756      0.450      -0.444       0.197\n",
       "Body_mass_index                     0.4720      0.197      2.390      0.017       0.084       0.860\n",
       "==============================================================================\n",
       "Omnibus:                      106.048   Durbin-Watson:                   2.003\n",
       "Prob(Omnibus):                  0.000   Jarque-Bera (JB):              252.578\n",
       "Skew:                           1.107   Prob(JB):                     1.42e-55\n",
       "Kurtosis:                       5.746   Cond. No.                         51.9\n",
       "==============================================================================\n",
       "\n",
       "Warnings:\n",
       "[1] Standard Errors assume that the covariance matrix of the errors is correctly specified.\n",
       "\"\"\""
      ]
     },
     "execution_count": 46,
     "metadata": {},
     "output_type": "execute_result"
    }
   ],
   "source": [
    "est = sm.OLS(list(y_train), X_train_scaled).fit()\n",
    "est.summary()"
   ]
  },
  {
   "cell_type": "markdown",
   "metadata": {},
   "source": [
    "## Linear Regression w/ RFE\n",
    "\n",
    "Recursive feature elimination\n",
    "\n",
    "Using `X_train_scaled` and `y_train` to choose the top 15 most important features"
   ]
  },
  {
   "cell_type": "code",
   "execution_count": 47,
   "metadata": {},
   "outputs": [],
   "source": [
    "linreg = LinearRegression()\n",
    "selector = RFE(linreg, n_features_to_select = 15)\n",
    "selector = selector.fit(X_train_scaled, y_train)"
   ]
  },
  {
   "cell_type": "code",
   "execution_count": 48,
   "metadata": {},
   "outputs": [
    {
     "data": {
      "text/plain": [
       "Index(['Transportation_expense', 'Distance_from_Residence_to_Work',\n",
       "       'Service_time', 'Age', 'Education', 'Son', 'Social_drinker', 'Pet',\n",
       "       'Body_mass_index', 'medical_consult_dummy', 'dental_consult_dummy',\n",
       "       'genitourinary_dummy', 'mon_dummy', 'thu_dummy', 'fri_dummy'],\n",
       "      dtype='object')"
      ]
     },
     "execution_count": 48,
     "metadata": {},
     "output_type": "execute_result"
    }
   ],
   "source": [
    "top_15_cols = X.columns[selector.support_]\n",
    "X_train_scaled_t15 = X_train_scaled[top_15_cols]\n",
    "X_test_scaled_t15 = X_test_scaled[top_15_cols]\n",
    "X_test_scaled_t15.columns"
   ]
  },
  {
   "cell_type": "code",
   "execution_count": 49,
   "metadata": {},
   "outputs": [],
   "source": [
    "linreg = LinearRegression()\n",
    "model1 = linreg.fit(X_train_scaled_t15, y_train)\n",
    "y_pred = linreg.predict(X_test_scaled_t15)"
   ]
  },
  {
   "cell_type": "code",
   "execution_count": 50,
   "metadata": {},
   "outputs": [
    {
     "data": {
      "text/plain": [
       "3.227637465701872"
      ]
     },
     "execution_count": 50,
     "metadata": {},
     "output_type": "execute_result"
    }
   ],
   "source": [
    "np.sqrt(mean_squared_error(y_test, y_pred))"
   ]
  },
  {
   "cell_type": "code",
   "execution_count": 51,
   "metadata": {},
   "outputs": [
    {
     "data": {
      "text/plain": [
       "0.08336739479390298"
      ]
     },
     "execution_count": 51,
     "metadata": {},
     "output_type": "execute_result"
    }
   ],
   "source": [
    "r2_score(y_test, y_pred)"
   ]
  },
  {
   "cell_type": "markdown",
   "metadata": {},
   "source": [
    "#### Look at AIC/BIC using `statsmodels`"
   ]
  },
  {
   "cell_type": "code",
   "execution_count": 52,
   "metadata": {
    "scrolled": false
   },
   "outputs": [
    {
     "data": {
      "text/html": [
       "<table class=\"simpletable\">\n",
       "<caption>OLS Regression Results</caption>\n",
       "<tr>\n",
       "  <th>Dep. Variable:</th>            <td>y</td>        <th>  R-squared (uncentered):</th>      <td>   0.642</td>\n",
       "</tr>\n",
       "<tr>\n",
       "  <th>Model:</th>                   <td>OLS</td>       <th>  Adj. R-squared (uncentered):</th> <td>   0.630</td>\n",
       "</tr>\n",
       "<tr>\n",
       "  <th>Method:</th>             <td>Least Squares</td>  <th>  F-statistic:       </th>          <td>   56.37</td>\n",
       "</tr>\n",
       "<tr>\n",
       "  <th>Date:</th>             <td>Tue, 30 Jul 2019</td> <th>  Prob (F-statistic):</th>          <td>5.50e-95</td>\n",
       "</tr>\n",
       "<tr>\n",
       "  <th>Time:</th>                 <td>15:30:36</td>     <th>  Log-Likelihood:    </th>          <td> -1280.0</td>\n",
       "</tr>\n",
       "<tr>\n",
       "  <th>No. Observations:</th>      <td>   487</td>      <th>  AIC:               </th>          <td>   2590.</td>\n",
       "</tr>\n",
       "<tr>\n",
       "  <th>Df Residuals:</th>          <td>   472</td>      <th>  BIC:               </th>          <td>   2653.</td>\n",
       "</tr>\n",
       "<tr>\n",
       "  <th>Df Model:</th>              <td>    15</td>      <th>                     </th>              <td> </td>   \n",
       "</tr>\n",
       "<tr>\n",
       "  <th>Covariance Type:</th>      <td>nonrobust</td>    <th>                     </th>              <td> </td>   \n",
       "</tr>\n",
       "</table>\n",
       "<table class=\"simpletable\">\n",
       "<tr>\n",
       "                 <td></td>                    <th>coef</th>     <th>std err</th>      <th>t</th>      <th>P>|t|</th>  <th>[0.025</th>    <th>0.975]</th>  \n",
       "</tr>\n",
       "<tr>\n",
       "  <th>Transportation_expense</th>          <td>    0.3998</td> <td>    0.191</td> <td>    2.089</td> <td> 0.037</td> <td>    0.024</td> <td>    0.776</td>\n",
       "</tr>\n",
       "<tr>\n",
       "  <th>Distance_from_Residence_to_Work</th> <td>   -0.4488</td> <td>    0.211</td> <td>   -2.127</td> <td> 0.034</td> <td>   -0.863</td> <td>   -0.034</td>\n",
       "</tr>\n",
       "<tr>\n",
       "  <th>Service_time</th>                    <td>   -0.1383</td> <td>    0.277</td> <td>   -0.500</td> <td> 0.618</td> <td>   -0.682</td> <td>    0.406</td>\n",
       "</tr>\n",
       "<tr>\n",
       "  <th>Age</th>                             <td>   -0.5204</td> <td>    0.240</td> <td>   -2.172</td> <td> 0.030</td> <td>   -0.991</td> <td>   -0.050</td>\n",
       "</tr>\n",
       "<tr>\n",
       "  <th>Education</th>                       <td>    1.6162</td> <td>    0.180</td> <td>    8.987</td> <td> 0.000</td> <td>    1.263</td> <td>    1.970</td>\n",
       "</tr>\n",
       "<tr>\n",
       "  <th>Son</th>                             <td>    0.6856</td> <td>    0.153</td> <td>    4.469</td> <td> 0.000</td> <td>    0.384</td> <td>    0.987</td>\n",
       "</tr>\n",
       "<tr>\n",
       "  <th>Social_drinker</th>                  <td>    2.3893</td> <td>    0.368</td> <td>    6.492</td> <td> 0.000</td> <td>    1.666</td> <td>    3.112</td>\n",
       "</tr>\n",
       "<tr>\n",
       "  <th>Pet</th>                             <td>    0.0540</td> <td>    0.135</td> <td>    0.401</td> <td> 0.688</td> <td>   -0.210</td> <td>    0.318</td>\n",
       "</tr>\n",
       "<tr>\n",
       "  <th>Body_mass_index</th>                 <td>    0.3478</td> <td>    0.206</td> <td>    1.691</td> <td> 0.091</td> <td>   -0.056</td> <td>    0.752</td>\n",
       "</tr>\n",
       "<tr>\n",
       "  <th>medical_consult_dummy</th>           <td>   -1.2159</td> <td>    0.382</td> <td>   -3.186</td> <td> 0.002</td> <td>   -1.966</td> <td>   -0.466</td>\n",
       "</tr>\n",
       "<tr>\n",
       "  <th>dental_consult_dummy</th>            <td>   -1.7547</td> <td>    0.454</td> <td>   -3.867</td> <td> 0.000</td> <td>   -2.646</td> <td>   -0.863</td>\n",
       "</tr>\n",
       "<tr>\n",
       "  <th>genitourinary_dummy</th>             <td>    0.9955</td> <td>    0.993</td> <td>    1.003</td> <td> 0.316</td> <td>   -0.955</td> <td>    2.946</td>\n",
       "</tr>\n",
       "<tr>\n",
       "  <th>mon_dummy</th>                       <td>    1.3244</td> <td>    0.416</td> <td>    3.187</td> <td> 0.002</td> <td>    0.508</td> <td>    2.141</td>\n",
       "</tr>\n",
       "<tr>\n",
       "  <th>thu_dummy</th>                       <td>    0.5983</td> <td>    0.441</td> <td>    1.356</td> <td> 0.176</td> <td>   -0.269</td> <td>    1.465</td>\n",
       "</tr>\n",
       "<tr>\n",
       "  <th>fri_dummy</th>                       <td>    0.1250</td> <td>    0.429</td> <td>    0.292</td> <td> 0.771</td> <td>   -0.718</td> <td>    0.968</td>\n",
       "</tr>\n",
       "</table>\n",
       "<table class=\"simpletable\">\n",
       "<tr>\n",
       "  <th>Omnibus:</th>       <td>56.909</td> <th>  Durbin-Watson:     </th> <td>   1.994</td>\n",
       "</tr>\n",
       "<tr>\n",
       "  <th>Prob(Omnibus):</th> <td> 0.000</td> <th>  Jarque-Bera (JB):  </th> <td>  88.976</td>\n",
       "</tr>\n",
       "<tr>\n",
       "  <th>Skew:</th>          <td> 0.766</td> <th>  Prob(JB):          </th> <td>4.78e-20</td>\n",
       "</tr>\n",
       "<tr>\n",
       "  <th>Kurtosis:</th>      <td> 4.428</td> <th>  Cond. No.          </th> <td>    14.5</td>\n",
       "</tr>\n",
       "</table><br/><br/>Warnings:<br/>[1] Standard Errors assume that the covariance matrix of the errors is correctly specified."
      ],
      "text/plain": [
       "<class 'statsmodels.iolib.summary.Summary'>\n",
       "\"\"\"\n",
       "                                 OLS Regression Results                                \n",
       "=======================================================================================\n",
       "Dep. Variable:                      y   R-squared (uncentered):                   0.642\n",
       "Model:                            OLS   Adj. R-squared (uncentered):              0.630\n",
       "Method:                 Least Squares   F-statistic:                              56.37\n",
       "Date:                Tue, 30 Jul 2019   Prob (F-statistic):                    5.50e-95\n",
       "Time:                        15:30:36   Log-Likelihood:                         -1280.0\n",
       "No. Observations:                 487   AIC:                                      2590.\n",
       "Df Residuals:                     472   BIC:                                      2653.\n",
       "Df Model:                          15                                                  \n",
       "Covariance Type:            nonrobust                                                  \n",
       "===================================================================================================\n",
       "                                      coef    std err          t      P>|t|      [0.025      0.975]\n",
       "---------------------------------------------------------------------------------------------------\n",
       "Transportation_expense              0.3998      0.191      2.089      0.037       0.024       0.776\n",
       "Distance_from_Residence_to_Work    -0.4488      0.211     -2.127      0.034      -0.863      -0.034\n",
       "Service_time                       -0.1383      0.277     -0.500      0.618      -0.682       0.406\n",
       "Age                                -0.5204      0.240     -2.172      0.030      -0.991      -0.050\n",
       "Education                           1.6162      0.180      8.987      0.000       1.263       1.970\n",
       "Son                                 0.6856      0.153      4.469      0.000       0.384       0.987\n",
       "Social_drinker                      2.3893      0.368      6.492      0.000       1.666       3.112\n",
       "Pet                                 0.0540      0.135      0.401      0.688      -0.210       0.318\n",
       "Body_mass_index                     0.3478      0.206      1.691      0.091      -0.056       0.752\n",
       "medical_consult_dummy              -1.2159      0.382     -3.186      0.002      -1.966      -0.466\n",
       "dental_consult_dummy               -1.7547      0.454     -3.867      0.000      -2.646      -0.863\n",
       "genitourinary_dummy                 0.9955      0.993      1.003      0.316      -0.955       2.946\n",
       "mon_dummy                           1.3244      0.416      3.187      0.002       0.508       2.141\n",
       "thu_dummy                           0.5983      0.441      1.356      0.176      -0.269       1.465\n",
       "fri_dummy                           0.1250      0.429      0.292      0.771      -0.718       0.968\n",
       "==============================================================================\n",
       "Omnibus:                       56.909   Durbin-Watson:                   1.994\n",
       "Prob(Omnibus):                  0.000   Jarque-Bera (JB):               88.976\n",
       "Skew:                           0.766   Prob(JB):                     4.78e-20\n",
       "Kurtosis:                       4.428   Cond. No.                         14.5\n",
       "==============================================================================\n",
       "\n",
       "Warnings:\n",
       "[1] Standard Errors assume that the covariance matrix of the errors is correctly specified.\n",
       "\"\"\""
      ]
     },
     "execution_count": 52,
     "metadata": {},
     "output_type": "execute_result"
    }
   ],
   "source": [
    "est = sm.OLS(list(y_train), X_train_scaled_t15).fit()\n",
    "est.summary()"
   ]
  },
  {
   "cell_type": "markdown",
   "metadata": {},
   "source": [
    "## Lasso Regularization"
   ]
  },
  {
   "cell_type": "code",
   "execution_count": 53,
   "metadata": {},
   "outputs": [
    {
     "name": "stderr",
     "output_type": "stream",
     "text": [
      "c:\\users\\joey\\learn-env2\\lib\\site-packages\\sklearn\\model_selection\\_split.py:1978: FutureWarning: The default value of cv will change from 3 to 5 in version 0.22. Specify it explicitly to silence this warning.\n",
      "  warnings.warn(CV_WARNING, FutureWarning)\n"
     ]
    },
    {
     "name": "stdout",
     "output_type": "stream",
     "text": [
      "Training r^2: 0.37196469460914516\n",
      "Testing r^2: 0.2536657949145882\n",
      "Training RMSE: 2.7500195599991333\n",
      "Testing RMSE: 2.9124184286062373\n"
     ]
    }
   ],
   "source": [
    "from sklearn.linear_model import LassoCV, Ridge\n",
    "\n",
    "lasso = LassoCV(eps=0.001)\n",
    "lasso.fit(X_train_scaled, y_train)\n",
    "print('Training r^2:', lasso.score(X_train_scaled, y_train))\n",
    "print('Testing r^2:', lasso.score(X_test_scaled, y_test))\n",
    "print('Training RMSE:', np.sqrt(mean_squared_error(y_train, lasso.predict(X_train_scaled))))\n",
    "print('Testing RMSE:', np.sqrt(mean_squared_error(y_test, lasso.predict(X_test_scaled))))"
   ]
  },
  {
   "cell_type": "markdown",
   "metadata": {},
   "source": [
    "## K-folds cross validation"
   ]
  },
  {
   "cell_type": "code",
   "execution_count": 54,
   "metadata": {},
   "outputs": [
    {
     "data": {
      "text/plain": [
       "0.20184050151872251"
      ]
     },
     "execution_count": 54,
     "metadata": {},
     "output_type": "execute_result"
    }
   ],
   "source": [
    "linreg = LinearRegression()\n",
    "model1 = linreg.fit(X_train, y_train)\n",
    "y_pred = linreg.predict(X_test)\n",
    "# scores.append(model1.score(X_test, y_test))\n",
    "np.mean(cross_val_score(linreg, X, y, cv=10))"
   ]
  },
  {
   "cell_type": "code",
   "execution_count": 55,
   "metadata": {},
   "outputs": [
    {
     "data": {
      "text/plain": [
       "2.935261948264028"
      ]
     },
     "execution_count": 55,
     "metadata": {},
     "output_type": "execute_result"
    }
   ],
   "source": [
    "linreg = LinearRegression()\n",
    "model1 = linreg.fit(X_train, y_train)\n",
    "y_pred = linreg.predict(X_test)\n",
    "# scores.append(model1.score(X_test, y_test))\n",
    "np.mean(np.sqrt(np.negative(cross_val_score(linreg, X, y, cv=10, scoring='neg_mean_squared_error'))))"
   ]
  },
  {
   "cell_type": "markdown",
   "metadata": {},
   "source": [
    "## Time series analysis"
   ]
  },
  {
   "cell_type": "code",
   "execution_count": 56,
   "metadata": {},
   "outputs": [
    {
     "data": {
      "text/plain": [
       "(696, 29)"
      ]
     },
     "execution_count": 56,
     "metadata": {},
     "output_type": "execute_result"
    }
   ],
   "source": [
    "df1.shape"
   ]
  },
  {
   "cell_type": "markdown",
   "metadata": {},
   "source": [
    "#### More data cleaning"
   ]
  },
  {
   "cell_type": "code",
   "execution_count": 59,
   "metadata": {},
   "outputs": [],
   "source": [
    "df1 = df1[df1.Month_of_absence != 0]  # drop rows where month is \n",
    "dmap = {2:'mon', 3:'tue', 4:'wed', 5:'thu', 6:'fri'}\n",
    "df1['dow_label'] = df1.Day_of_the_week.map(dmap)"
   ]
  },
  {
   "cell_type": "code",
   "execution_count": 64,
   "metadata": {},
   "outputs": [
    {
     "data": {
      "text/plain": [
       "<matplotlib.axes._subplots.AxesSubplot at 0x47fc230>"
      ]
     },
     "execution_count": 64,
     "metadata": {},
     "output_type": "execute_result"
    },
    {
     "data": {
      "image/png": "[encoded data removed]",
      "text/plain": [
       "<Figure size 432x288 with 1 Axes>"
      ]
     },
     "metadata": {},
     "output_type": "display_data"
    }
   ],
   "source": [
    "monthly_absent = df1.groupby('Month_of_absence')['Absenteeism_time_in_hours'].mean().reset_index()#.plot(kind='bar')\n",
    "monthly_absent.columns = ['month', 'avg_hr_absent']\n",
    "monthly_absent.avg_hr_absent.plot(kind='bar')#head()"
   ]
  },
  {
   "cell_type": "code",
   "execution_count": 65,
   "metadata": {},
   "outputs": [
    {
     "data": {
      "text/plain": [
       "<matplotlib.axes._subplots.AxesSubplot at 0x4854ad0>"
      ]
     },
     "execution_count": 65,
     "metadata": {},
     "output_type": "execute_result"
    },
    {
     "data": {
      "image/png": "[encoded data removed]",
      "text/plain": [
       "<Figure size 432x288 with 1 Axes>"
      ]
     },
     "metadata": {},
     "output_type": "display_data"
    }
   ],
   "source": [
    "# dow_all = df1[['Day_of_the_week', 'Absenteeism_time_in_hours']]\n",
    "dow_all = df1.groupby('Day_of_the_week')['Absenteeism_time_in_hours'].mean()#.reset_index()#.plot(kind='bar')\n",
    "dow_all.plot(kind='bar')#head()"
   ]
  },
  {
   "cell_type": "code",
   "execution_count": 66,
   "metadata": {
    "scrolled": true
   },
   "outputs": [
    {
     "name": "stdout",
     "output_type": "stream",
     "text": [
      "(139, 4)\n"
     ]
    },
    {
     "data": {
      "text/html": [
       "<div>\n",
       "<style scoped>\n",
       "    .dataframe tbody tr th:only-of-type {\n",
       "        vertical-align: middle;\n",
       "    }\n",
       "\n",
       "    .dataframe tbody tr th {\n",
       "        vertical-align: top;\n",
       "    }\n",
       "\n",
       "    .dataframe thead th {\n",
       "        text-align: right;\n",
       "    }\n",
       "</style>\n",
       "<table border=\"1\" class=\"dataframe\">\n",
       "  <thead>\n",
       "    <tr style=\"text-align: right;\">\n",
       "      <th></th>\n",
       "      <th>ID</th>\n",
       "      <th>Day_of_the_week</th>\n",
       "      <th>dow_label</th>\n",
       "      <th>Absenteeism_time_in_hours</th>\n",
       "    </tr>\n",
       "  </thead>\n",
       "  <tbody>\n",
       "    <tr>\n",
       "      <th>0</th>\n",
       "      <td>1</td>\n",
       "      <td>2</td>\n",
       "      <td>mon</td>\n",
       "      <td>39</td>\n",
       "    </tr>\n",
       "    <tr>\n",
       "      <th>1</th>\n",
       "      <td>1</td>\n",
       "      <td>3</td>\n",
       "      <td>tue</td>\n",
       "      <td>22</td>\n",
       "    </tr>\n",
       "    <tr>\n",
       "      <th>2</th>\n",
       "      <td>1</td>\n",
       "      <td>4</td>\n",
       "      <td>wed</td>\n",
       "      <td>9</td>\n",
       "    </tr>\n",
       "    <tr>\n",
       "      <th>3</th>\n",
       "      <td>1</td>\n",
       "      <td>5</td>\n",
       "      <td>thu</td>\n",
       "      <td>24</td>\n",
       "    </tr>\n",
       "    <tr>\n",
       "      <th>4</th>\n",
       "      <td>1</td>\n",
       "      <td>6</td>\n",
       "      <td>fri</td>\n",
       "      <td>27</td>\n",
       "    </tr>\n",
       "    <tr>\n",
       "      <th>5</th>\n",
       "      <td>2</td>\n",
       "      <td>2</td>\n",
       "      <td>mon</td>\n",
       "      <td>9</td>\n",
       "    </tr>\n",
       "    <tr>\n",
       "      <th>6</th>\n",
       "      <td>2</td>\n",
       "      <td>5</td>\n",
       "      <td>thu</td>\n",
       "      <td>8</td>\n",
       "    </tr>\n",
       "    <tr>\n",
       "      <th>7</th>\n",
       "      <td>2</td>\n",
       "      <td>6</td>\n",
       "      <td>fri</td>\n",
       "      <td>8</td>\n",
       "    </tr>\n",
       "    <tr>\n",
       "      <th>8</th>\n",
       "      <td>3</td>\n",
       "      <td>2</td>\n",
       "      <td>mon</td>\n",
       "      <td>107</td>\n",
       "    </tr>\n",
       "    <tr>\n",
       "      <th>9</th>\n",
       "      <td>3</td>\n",
       "      <td>3</td>\n",
       "      <td>tue</td>\n",
       "      <td>54</td>\n",
       "    </tr>\n",
       "  </tbody>\n",
       "</table>\n",
       "</div>"
      ],
      "text/plain": [
       "   ID  Day_of_the_week dow_label  Absenteeism_time_in_hours\n",
       "0   1                2       mon                         39\n",
       "1   1                3       tue                         22\n",
       "2   1                4       wed                          9\n",
       "3   1                5       thu                         24\n",
       "4   1                6       fri                         27\n",
       "5   2                2       mon                          9\n",
       "6   2                5       thu                          8\n",
       "7   2                6       fri                          8\n",
       "8   3                2       mon                        107\n",
       "9   3                3       tue                         54"
      ]
     },
     "execution_count": 66,
     "metadata": {},
     "output_type": "execute_result"
    }
   ],
   "source": [
    "dow_id_all = df1.groupby(['ID', 'Day_of_the_week', 'dow_label'])['Absenteeism_time_in_hours'].sum().reset_index()#.mean()\n",
    "# dow_id_all = dow_id_all.drop('Day_of_the_week', axis=1)\n",
    "print(dow_id_all.shape)\n",
    "dow_id_all.head(10)"
   ]
  },
  {
   "cell_type": "markdown",
   "metadata": {},
   "source": [
    "#### Create a base df will all days of the week, to merge with `dow_id_all`"
   ]
  },
  {
   "cell_type": "code",
   "execution_count": 67,
   "metadata": {},
   "outputs": [],
   "source": [
    "df_base = pd.DataFrame({'ID':np.repeat(dow_id_all.ID.unique(), 5), 'Day_of_the_week':np.array(list(range(2,7)) * 34)})\n",
    "df_merge = pd.merge(df_base, dow_id_all, how='left', on=['ID', 'Day_of_the_week']).fillna(0)"
   ]
  },
  {
   "cell_type": "code",
   "execution_count": 71,
   "metadata": {},
   "outputs": [
    {
     "data": {
      "text/html": [
       "<div>\n",
       "<style scoped>\n",
       "    .dataframe tbody tr th:only-of-type {\n",
       "        vertical-align: middle;\n",
       "    }\n",
       "\n",
       "    .dataframe tbody tr th {\n",
       "        vertical-align: top;\n",
       "    }\n",
       "\n",
       "    .dataframe thead th {\n",
       "        text-align: right;\n",
       "    }\n",
       "</style>\n",
       "<table border=\"1\" class=\"dataframe\">\n",
       "  <thead>\n",
       "    <tr style=\"text-align: right;\">\n",
       "      <th></th>\n",
       "      <th>ID</th>\n",
       "      <th>Day_of_the_week</th>\n",
       "      <th>dow_label</th>\n",
       "      <th>Absenteeism_time_in_hours</th>\n",
       "    </tr>\n",
       "  </thead>\n",
       "  <tbody>\n",
       "    <tr>\n",
       "      <th>0</th>\n",
       "      <td>1</td>\n",
       "      <td>2</td>\n",
       "      <td>mon</td>\n",
       "      <td>39.0</td>\n",
       "    </tr>\n",
       "    <tr>\n",
       "      <th>1</th>\n",
       "      <td>1</td>\n",
       "      <td>3</td>\n",
       "      <td>tue</td>\n",
       "      <td>22.0</td>\n",
       "    </tr>\n",
       "    <tr>\n",
       "      <th>2</th>\n",
       "      <td>1</td>\n",
       "      <td>4</td>\n",
       "      <td>wed</td>\n",
       "      <td>9.0</td>\n",
       "    </tr>\n",
       "    <tr>\n",
       "      <th>3</th>\n",
       "      <td>1</td>\n",
       "      <td>5</td>\n",
       "      <td>thu</td>\n",
       "      <td>24.0</td>\n",
       "    </tr>\n",
       "    <tr>\n",
       "      <th>4</th>\n",
       "      <td>1</td>\n",
       "      <td>6</td>\n",
       "      <td>fri</td>\n",
       "      <td>27.0</td>\n",
       "    </tr>\n",
       "    <tr>\n",
       "      <th>5</th>\n",
       "      <td>2</td>\n",
       "      <td>2</td>\n",
       "      <td>mon</td>\n",
       "      <td>9.0</td>\n",
       "    </tr>\n",
       "    <tr>\n",
       "      <th>6</th>\n",
       "      <td>2</td>\n",
       "      <td>3</td>\n",
       "      <td>0</td>\n",
       "      <td>0.0</td>\n",
       "    </tr>\n",
       "    <tr>\n",
       "      <th>7</th>\n",
       "      <td>2</td>\n",
       "      <td>4</td>\n",
       "      <td>0</td>\n",
       "      <td>0.0</td>\n",
       "    </tr>\n",
       "    <tr>\n",
       "      <th>8</th>\n",
       "      <td>2</td>\n",
       "      <td>5</td>\n",
       "      <td>thu</td>\n",
       "      <td>8.0</td>\n",
       "    </tr>\n",
       "    <tr>\n",
       "      <th>9</th>\n",
       "      <td>2</td>\n",
       "      <td>6</td>\n",
       "      <td>fri</td>\n",
       "      <td>8.0</td>\n",
       "    </tr>\n",
       "    <tr>\n",
       "      <th>10</th>\n",
       "      <td>3</td>\n",
       "      <td>2</td>\n",
       "      <td>mon</td>\n",
       "      <td>107.0</td>\n",
       "    </tr>\n",
       "    <tr>\n",
       "      <th>11</th>\n",
       "      <td>3</td>\n",
       "      <td>3</td>\n",
       "      <td>tue</td>\n",
       "      <td>54.0</td>\n",
       "    </tr>\n",
       "    <tr>\n",
       "      <th>12</th>\n",
       "      <td>3</td>\n",
       "      <td>4</td>\n",
       "      <td>wed</td>\n",
       "      <td>99.0</td>\n",
       "    </tr>\n",
       "    <tr>\n",
       "      <th>13</th>\n",
       "      <td>3</td>\n",
       "      <td>5</td>\n",
       "      <td>thu</td>\n",
       "      <td>65.0</td>\n",
       "    </tr>\n",
       "    <tr>\n",
       "      <th>14</th>\n",
       "      <td>3</td>\n",
       "      <td>6</td>\n",
       "      <td>fri</td>\n",
       "      <td>53.0</td>\n",
       "    </tr>\n",
       "    <tr>\n",
       "      <th>15</th>\n",
       "      <td>5</td>\n",
       "      <td>2</td>\n",
       "      <td>mon</td>\n",
       "      <td>44.0</td>\n",
       "    </tr>\n",
       "    <tr>\n",
       "      <th>16</th>\n",
       "      <td>5</td>\n",
       "      <td>3</td>\n",
       "      <td>tue</td>\n",
       "      <td>32.0</td>\n",
       "    </tr>\n",
       "    <tr>\n",
       "      <th>17</th>\n",
       "      <td>5</td>\n",
       "      <td>4</td>\n",
       "      <td>wed</td>\n",
       "      <td>20.0</td>\n",
       "    </tr>\n",
       "    <tr>\n",
       "      <th>18</th>\n",
       "      <td>5</td>\n",
       "      <td>5</td>\n",
       "      <td>thu</td>\n",
       "      <td>0.0</td>\n",
       "    </tr>\n",
       "    <tr>\n",
       "      <th>19</th>\n",
       "      <td>5</td>\n",
       "      <td>6</td>\n",
       "      <td>fri</td>\n",
       "      <td>8.0</td>\n",
       "    </tr>\n",
       "    <tr>\n",
       "      <th>20</th>\n",
       "      <td>6</td>\n",
       "      <td>2</td>\n",
       "      <td>mon</td>\n",
       "      <td>24.0</td>\n",
       "    </tr>\n",
       "    <tr>\n",
       "      <th>21</th>\n",
       "      <td>6</td>\n",
       "      <td>3</td>\n",
       "      <td>tue</td>\n",
       "      <td>16.0</td>\n",
       "    </tr>\n",
       "    <tr>\n",
       "      <th>22</th>\n",
       "      <td>6</td>\n",
       "      <td>4</td>\n",
       "      <td>0</td>\n",
       "      <td>0.0</td>\n",
       "    </tr>\n",
       "    <tr>\n",
       "      <th>23</th>\n",
       "      <td>6</td>\n",
       "      <td>5</td>\n",
       "      <td>thu</td>\n",
       "      <td>32.0</td>\n",
       "    </tr>\n",
       "    <tr>\n",
       "      <th>24</th>\n",
       "      <td>6</td>\n",
       "      <td>6</td>\n",
       "      <td>0</td>\n",
       "      <td>0.0</td>\n",
       "    </tr>\n",
       "    <tr>\n",
       "      <th>25</th>\n",
       "      <td>7</td>\n",
       "      <td>2</td>\n",
       "      <td>mon</td>\n",
       "      <td>8.0</td>\n",
       "    </tr>\n",
       "    <tr>\n",
       "      <th>26</th>\n",
       "      <td>7</td>\n",
       "      <td>3</td>\n",
       "      <td>tue</td>\n",
       "      <td>0.0</td>\n",
       "    </tr>\n",
       "    <tr>\n",
       "      <th>27</th>\n",
       "      <td>7</td>\n",
       "      <td>4</td>\n",
       "      <td>wed</td>\n",
       "      <td>0.0</td>\n",
       "    </tr>\n",
       "    <tr>\n",
       "      <th>28</th>\n",
       "      <td>7</td>\n",
       "      <td>5</td>\n",
       "      <td>thu</td>\n",
       "      <td>22.0</td>\n",
       "    </tr>\n",
       "    <tr>\n",
       "      <th>29</th>\n",
       "      <td>7</td>\n",
       "      <td>6</td>\n",
       "      <td>0</td>\n",
       "      <td>0.0</td>\n",
       "    </tr>\n",
       "    <tr>\n",
       "      <th>...</th>\n",
       "      <td>...</td>\n",
       "      <td>...</td>\n",
       "      <td>...</td>\n",
       "      <td>...</td>\n",
       "    </tr>\n",
       "    <tr>\n",
       "      <th>140</th>\n",
       "      <td>30</td>\n",
       "      <td>2</td>\n",
       "      <td>mon</td>\n",
       "      <td>5.0</td>\n",
       "    </tr>\n",
       "    <tr>\n",
       "      <th>141</th>\n",
       "      <td>30</td>\n",
       "      <td>3</td>\n",
       "      <td>tue</td>\n",
       "      <td>3.0</td>\n",
       "    </tr>\n",
       "    <tr>\n",
       "      <th>142</th>\n",
       "      <td>30</td>\n",
       "      <td>4</td>\n",
       "      <td>wed</td>\n",
       "      <td>20.0</td>\n",
       "    </tr>\n",
       "    <tr>\n",
       "      <th>143</th>\n",
       "      <td>30</td>\n",
       "      <td>5</td>\n",
       "      <td>0</td>\n",
       "      <td>0.0</td>\n",
       "    </tr>\n",
       "    <tr>\n",
       "      <th>144</th>\n",
       "      <td>30</td>\n",
       "      <td>6</td>\n",
       "      <td>fri</td>\n",
       "      <td>3.0</td>\n",
       "    </tr>\n",
       "    <tr>\n",
       "      <th>145</th>\n",
       "      <td>31</td>\n",
       "      <td>2</td>\n",
       "      <td>mon</td>\n",
       "      <td>8.0</td>\n",
       "    </tr>\n",
       "    <tr>\n",
       "      <th>146</th>\n",
       "      <td>31</td>\n",
       "      <td>3</td>\n",
       "      <td>tue</td>\n",
       "      <td>8.0</td>\n",
       "    </tr>\n",
       "    <tr>\n",
       "      <th>147</th>\n",
       "      <td>31</td>\n",
       "      <td>4</td>\n",
       "      <td>wed</td>\n",
       "      <td>0.0</td>\n",
       "    </tr>\n",
       "    <tr>\n",
       "      <th>148</th>\n",
       "      <td>31</td>\n",
       "      <td>5</td>\n",
       "      <td>0</td>\n",
       "      <td>0.0</td>\n",
       "    </tr>\n",
       "    <tr>\n",
       "      <th>149</th>\n",
       "      <td>31</td>\n",
       "      <td>6</td>\n",
       "      <td>0</td>\n",
       "      <td>0.0</td>\n",
       "    </tr>\n",
       "    <tr>\n",
       "      <th>150</th>\n",
       "      <td>32</td>\n",
       "      <td>2</td>\n",
       "      <td>mon</td>\n",
       "      <td>2.0</td>\n",
       "    </tr>\n",
       "    <tr>\n",
       "      <th>151</th>\n",
       "      <td>32</td>\n",
       "      <td>3</td>\n",
       "      <td>0</td>\n",
       "      <td>0.0</td>\n",
       "    </tr>\n",
       "    <tr>\n",
       "      <th>152</th>\n",
       "      <td>32</td>\n",
       "      <td>4</td>\n",
       "      <td>wed</td>\n",
       "      <td>3.0</td>\n",
       "    </tr>\n",
       "    <tr>\n",
       "      <th>153</th>\n",
       "      <td>32</td>\n",
       "      <td>5</td>\n",
       "      <td>thu</td>\n",
       "      <td>11.0</td>\n",
       "    </tr>\n",
       "    <tr>\n",
       "      <th>154</th>\n",
       "      <td>32</td>\n",
       "      <td>6</td>\n",
       "      <td>0</td>\n",
       "      <td>0.0</td>\n",
       "    </tr>\n",
       "    <tr>\n",
       "      <th>155</th>\n",
       "      <td>33</td>\n",
       "      <td>2</td>\n",
       "      <td>mon</td>\n",
       "      <td>21.0</td>\n",
       "    </tr>\n",
       "    <tr>\n",
       "      <th>156</th>\n",
       "      <td>33</td>\n",
       "      <td>3</td>\n",
       "      <td>tue</td>\n",
       "      <td>6.0</td>\n",
       "    </tr>\n",
       "    <tr>\n",
       "      <th>157</th>\n",
       "      <td>33</td>\n",
       "      <td>4</td>\n",
       "      <td>wed</td>\n",
       "      <td>23.0</td>\n",
       "    </tr>\n",
       "    <tr>\n",
       "      <th>158</th>\n",
       "      <td>33</td>\n",
       "      <td>5</td>\n",
       "      <td>thu</td>\n",
       "      <td>7.0</td>\n",
       "    </tr>\n",
       "    <tr>\n",
       "      <th>159</th>\n",
       "      <td>33</td>\n",
       "      <td>6</td>\n",
       "      <td>fri</td>\n",
       "      <td>16.0</td>\n",
       "    </tr>\n",
       "    <tr>\n",
       "      <th>160</th>\n",
       "      <td>34</td>\n",
       "      <td>2</td>\n",
       "      <td>mon</td>\n",
       "      <td>50.0</td>\n",
       "    </tr>\n",
       "    <tr>\n",
       "      <th>161</th>\n",
       "      <td>34</td>\n",
       "      <td>3</td>\n",
       "      <td>tue</td>\n",
       "      <td>72.0</td>\n",
       "    </tr>\n",
       "    <tr>\n",
       "      <th>162</th>\n",
       "      <td>34</td>\n",
       "      <td>4</td>\n",
       "      <td>wed</td>\n",
       "      <td>30.0</td>\n",
       "    </tr>\n",
       "    <tr>\n",
       "      <th>163</th>\n",
       "      <td>34</td>\n",
       "      <td>5</td>\n",
       "      <td>thu</td>\n",
       "      <td>6.0</td>\n",
       "    </tr>\n",
       "    <tr>\n",
       "      <th>164</th>\n",
       "      <td>34</td>\n",
       "      <td>6</td>\n",
       "      <td>fri</td>\n",
       "      <td>34.0</td>\n",
       "    </tr>\n",
       "    <tr>\n",
       "      <th>165</th>\n",
       "      <td>36</td>\n",
       "      <td>2</td>\n",
       "      <td>mon</td>\n",
       "      <td>7.0</td>\n",
       "    </tr>\n",
       "    <tr>\n",
       "      <th>166</th>\n",
       "      <td>36</td>\n",
       "      <td>3</td>\n",
       "      <td>tue</td>\n",
       "      <td>12.0</td>\n",
       "    </tr>\n",
       "    <tr>\n",
       "      <th>167</th>\n",
       "      <td>36</td>\n",
       "      <td>4</td>\n",
       "      <td>wed</td>\n",
       "      <td>28.0</td>\n",
       "    </tr>\n",
       "    <tr>\n",
       "      <th>168</th>\n",
       "      <td>36</td>\n",
       "      <td>5</td>\n",
       "      <td>thu</td>\n",
       "      <td>13.0</td>\n",
       "    </tr>\n",
       "    <tr>\n",
       "      <th>169</th>\n",
       "      <td>36</td>\n",
       "      <td>6</td>\n",
       "      <td>fri</td>\n",
       "      <td>3.0</td>\n",
       "    </tr>\n",
       "  </tbody>\n",
       "</table>\n",
       "<p>170 rows × 4 columns</p>\n",
       "</div>"
      ],
      "text/plain": [
       "     ID  Day_of_the_week dow_label  Absenteeism_time_in_hours\n",
       "0     1                2       mon                       39.0\n",
       "1     1                3       tue                       22.0\n",
       "2     1                4       wed                        9.0\n",
       "3     1                5       thu                       24.0\n",
       "4     1                6       fri                       27.0\n",
       "5     2                2       mon                        9.0\n",
       "6     2                3         0                        0.0\n",
       "7     2                4         0                        0.0\n",
       "8     2                5       thu                        8.0\n",
       "9     2                6       fri                        8.0\n",
       "10    3                2       mon                      107.0\n",
       "11    3                3       tue                       54.0\n",
       "12    3                4       wed                       99.0\n",
       "13    3                5       thu                       65.0\n",
       "14    3                6       fri                       53.0\n",
       "15    5                2       mon                       44.0\n",
       "16    5                3       tue                       32.0\n",
       "17    5                4       wed                       20.0\n",
       "18    5                5       thu                        0.0\n",
       "19    5                6       fri                        8.0\n",
       "20    6                2       mon                       24.0\n",
       "21    6                3       tue                       16.0\n",
       "22    6                4         0                        0.0\n",
       "23    6                5       thu                       32.0\n",
       "24    6                6         0                        0.0\n",
       "25    7                2       mon                        8.0\n",
       "26    7                3       tue                        0.0\n",
       "27    7                4       wed                        0.0\n",
       "28    7                5       thu                       22.0\n",
       "29    7                6         0                        0.0\n",
       "..   ..              ...       ...                        ...\n",
       "140  30                2       mon                        5.0\n",
       "141  30                3       tue                        3.0\n",
       "142  30                4       wed                       20.0\n",
       "143  30                5         0                        0.0\n",
       "144  30                6       fri                        3.0\n",
       "145  31                2       mon                        8.0\n",
       "146  31                3       tue                        8.0\n",
       "147  31                4       wed                        0.0\n",
       "148  31                5         0                        0.0\n",
       "149  31                6         0                        0.0\n",
       "150  32                2       mon                        2.0\n",
       "151  32                3         0                        0.0\n",
       "152  32                4       wed                        3.0\n",
       "153  32                5       thu                       11.0\n",
       "154  32                6         0                        0.0\n",
       "155  33                2       mon                       21.0\n",
       "156  33                3       tue                        6.0\n",
       "157  33                4       wed                       23.0\n",
       "158  33                5       thu                        7.0\n",
       "159  33                6       fri                       16.0\n",
       "160  34                2       mon                       50.0\n",
       "161  34                3       tue                       72.0\n",
       "162  34                4       wed                       30.0\n",
       "163  34                5       thu                        6.0\n",
       "164  34                6       fri                       34.0\n",
       "165  36                2       mon                        7.0\n",
       "166  36                3       tue                       12.0\n",
       "167  36                4       wed                       28.0\n",
       "168  36                5       thu                       13.0\n",
       "169  36                6       fri                        3.0\n",
       "\n",
       "[170 rows x 4 columns]"
      ]
     },
     "execution_count": 71,
     "metadata": {},
     "output_type": "execute_result"
    }
   ],
   "source": [
    "df_merge"
   ]
  },
  {
   "cell_type": "code",
   "execution_count": 68,
   "metadata": {},
   "outputs": [
    {
     "name": "stdout",
     "output_type": "stream",
     "text": [
      "(170, 2)\n",
      "(170, 4)\n"
     ]
    }
   ],
   "source": [
    "print(df_base.shape)\n",
    "print(df_merge.shape)"
   ]
  },
  {
   "cell_type": "code",
   "execution_count": 69,
   "metadata": {},
   "outputs": [
    {
     "data": {
      "text/plain": [
       "[<matplotlib.lines.Line2D at 0x48c2d50>]"
      ]
     },
     "execution_count": 69,
     "metadata": {},
     "output_type": "execute_result"
    },
    {
     "data": {
      "image/png": "[encoded data removed]",
      "text/plain": [
       "<Figure size 432x288 with 1 Axes>"
      ]
     },
     "metadata": {},
     "output_type": "display_data"
    }
   ],
   "source": [
    "plt.plot(df_merge.index, df_merge.Absenteeism_time_in_hours)"
   ]
  },
  {
   "cell_type": "markdown",
   "metadata": {},
   "source": [
    "## Logistic regression"
   ]
  },
  {
   "cell_type": "code",
   "execution_count": 68,
   "metadata": {},
   "outputs": [
    {
     "data": {
      "text/html": [
       "<div>\n",
       "<style scoped>\n",
       "    .dataframe tbody tr th:only-of-type {\n",
       "        vertical-align: middle;\n",
       "    }\n",
       "\n",
       "    .dataframe tbody tr th {\n",
       "        vertical-align: top;\n",
       "    }\n",
       "\n",
       "    .dataframe thead th {\n",
       "        text-align: right;\n",
       "    }\n",
       "</style>\n",
       "<table border=\"1\" class=\"dataframe\">\n",
       "  <thead>\n",
       "    <tr style=\"text-align: right;\">\n",
       "      <th></th>\n",
       "      <th>count</th>\n",
       "      <th>mean</th>\n",
       "      <th>std</th>\n",
       "      <th>min</th>\n",
       "      <th>25%</th>\n",
       "      <th>50%</th>\n",
       "      <th>75%</th>\n",
       "      <th>max</th>\n",
       "    </tr>\n",
       "  </thead>\n",
       "  <tbody>\n",
       "    <tr>\n",
       "      <th>ID</th>\n",
       "      <td>693.0</td>\n",
       "      <td>18.025974</td>\n",
       "      <td>11.095847</td>\n",
       "      <td>1.000</td>\n",
       "      <td>9.000</td>\n",
       "      <td>18.000</td>\n",
       "      <td>28.000</td>\n",
       "      <td>36.000</td>\n",
       "    </tr>\n",
       "    <tr>\n",
       "      <th>Reason_for_absence</th>\n",
       "      <td>693.0</td>\n",
       "      <td>19.683983</td>\n",
       "      <td>8.378147</td>\n",
       "      <td>0.000</td>\n",
       "      <td>13.000</td>\n",
       "      <td>23.000</td>\n",
       "      <td>27.000</td>\n",
       "      <td>28.000</td>\n",
       "    </tr>\n",
       "    <tr>\n",
       "      <th>Month_of_absence</th>\n",
       "      <td>693.0</td>\n",
       "      <td>6.337662</td>\n",
       "      <td>3.429510</td>\n",
       "      <td>1.000</td>\n",
       "      <td>3.000</td>\n",
       "      <td>6.000</td>\n",
       "      <td>9.000</td>\n",
       "      <td>12.000</td>\n",
       "    </tr>\n",
       "    <tr>\n",
       "      <th>Day_of_the_week</th>\n",
       "      <td>693.0</td>\n",
       "      <td>3.956710</td>\n",
       "      <td>1.421705</td>\n",
       "      <td>2.000</td>\n",
       "      <td>3.000</td>\n",
       "      <td>4.000</td>\n",
       "      <td>5.000</td>\n",
       "      <td>6.000</td>\n",
       "    </tr>\n",
       "    <tr>\n",
       "      <th>Seasons</th>\n",
       "      <td>693.0</td>\n",
       "      <td>2.536797</td>\n",
       "      <td>1.116295</td>\n",
       "      <td>1.000</td>\n",
       "      <td>2.000</td>\n",
       "      <td>3.000</td>\n",
       "      <td>4.000</td>\n",
       "      <td>4.000</td>\n",
       "    </tr>\n",
       "    <tr>\n",
       "      <th>Transportation_expense</th>\n",
       "      <td>693.0</td>\n",
       "      <td>221.600289</td>\n",
       "      <td>66.421651</td>\n",
       "      <td>118.000</td>\n",
       "      <td>179.000</td>\n",
       "      <td>225.000</td>\n",
       "      <td>260.000</td>\n",
       "      <td>388.000</td>\n",
       "    </tr>\n",
       "    <tr>\n",
       "      <th>Distance_from_Residence_to_Work</th>\n",
       "      <td>693.0</td>\n",
       "      <td>29.874459</td>\n",
       "      <td>14.875693</td>\n",
       "      <td>5.000</td>\n",
       "      <td>16.000</td>\n",
       "      <td>26.000</td>\n",
       "      <td>50.000</td>\n",
       "      <td>52.000</td>\n",
       "    </tr>\n",
       "    <tr>\n",
       "      <th>Service_time</th>\n",
       "      <td>693.0</td>\n",
       "      <td>12.493506</td>\n",
       "      <td>4.437951</td>\n",
       "      <td>1.000</td>\n",
       "      <td>9.000</td>\n",
       "      <td>12.000</td>\n",
       "      <td>16.000</td>\n",
       "      <td>29.000</td>\n",
       "    </tr>\n",
       "    <tr>\n",
       "      <th>Age</th>\n",
       "      <td>693.0</td>\n",
       "      <td>36.326118</td>\n",
       "      <td>6.405640</td>\n",
       "      <td>27.000</td>\n",
       "      <td>31.000</td>\n",
       "      <td>37.000</td>\n",
       "      <td>40.000</td>\n",
       "      <td>58.000</td>\n",
       "    </tr>\n",
       "    <tr>\n",
       "      <th>Work_load_Average/day_</th>\n",
       "      <td>693.0</td>\n",
       "      <td>270.577130</td>\n",
       "      <td>38.438426</td>\n",
       "      <td>205.917</td>\n",
       "      <td>244.387</td>\n",
       "      <td>264.249</td>\n",
       "      <td>284.853</td>\n",
       "      <td>378.884</td>\n",
       "    </tr>\n",
       "    <tr>\n",
       "      <th>Hit_target</th>\n",
       "      <td>693.0</td>\n",
       "      <td>94.603175</td>\n",
       "      <td>3.740860</td>\n",
       "      <td>81.000</td>\n",
       "      <td>93.000</td>\n",
       "      <td>95.000</td>\n",
       "      <td>97.000</td>\n",
       "      <td>100.000</td>\n",
       "    </tr>\n",
       "    <tr>\n",
       "      <th>Disciplinary_failure</th>\n",
       "      <td>693.0</td>\n",
       "      <td>0.057720</td>\n",
       "      <td>0.233382</td>\n",
       "      <td>0.000</td>\n",
       "      <td>0.000</td>\n",
       "      <td>0.000</td>\n",
       "      <td>0.000</td>\n",
       "      <td>1.000</td>\n",
       "    </tr>\n",
       "    <tr>\n",
       "      <th>Education</th>\n",
       "      <td>693.0</td>\n",
       "      <td>1.303030</td>\n",
       "      <td>0.684641</td>\n",
       "      <td>1.000</td>\n",
       "      <td>1.000</td>\n",
       "      <td>1.000</td>\n",
       "      <td>1.000</td>\n",
       "      <td>4.000</td>\n",
       "    </tr>\n",
       "    <tr>\n",
       "      <th>Son</th>\n",
       "      <td>693.0</td>\n",
       "      <td>1.001443</td>\n",
       "      <td>1.098474</td>\n",
       "      <td>0.000</td>\n",
       "      <td>0.000</td>\n",
       "      <td>1.000</td>\n",
       "      <td>2.000</td>\n",
       "      <td>4.000</td>\n",
       "    </tr>\n",
       "    <tr>\n",
       "      <th>Social_drinker</th>\n",
       "      <td>693.0</td>\n",
       "      <td>0.554113</td>\n",
       "      <td>0.497422</td>\n",
       "      <td>0.000</td>\n",
       "      <td>0.000</td>\n",
       "      <td>1.000</td>\n",
       "      <td>1.000</td>\n",
       "      <td>1.000</td>\n",
       "    </tr>\n",
       "    <tr>\n",
       "      <th>Social_smoker</th>\n",
       "      <td>693.0</td>\n",
       "      <td>0.075036</td>\n",
       "      <td>0.263640</td>\n",
       "      <td>0.000</td>\n",
       "      <td>0.000</td>\n",
       "      <td>0.000</td>\n",
       "      <td>0.000</td>\n",
       "      <td>1.000</td>\n",
       "    </tr>\n",
       "    <tr>\n",
       "      <th>Pet</th>\n",
       "      <td>693.0</td>\n",
       "      <td>0.754690</td>\n",
       "      <td>1.317017</td>\n",
       "      <td>0.000</td>\n",
       "      <td>0.000</td>\n",
       "      <td>0.000</td>\n",
       "      <td>1.000</td>\n",
       "      <td>8.000</td>\n",
       "    </tr>\n",
       "    <tr>\n",
       "      <th>Weight</th>\n",
       "      <td>693.0</td>\n",
       "      <td>78.865801</td>\n",
       "      <td>12.859878</td>\n",
       "      <td>56.000</td>\n",
       "      <td>69.000</td>\n",
       "      <td>80.000</td>\n",
       "      <td>89.000</td>\n",
       "      <td>108.000</td>\n",
       "    </tr>\n",
       "    <tr>\n",
       "      <th>Height</th>\n",
       "      <td>693.0</td>\n",
       "      <td>171.887446</td>\n",
       "      <td>5.703819</td>\n",
       "      <td>163.000</td>\n",
       "      <td>169.000</td>\n",
       "      <td>170.000</td>\n",
       "      <td>172.000</td>\n",
       "      <td>196.000</td>\n",
       "    </tr>\n",
       "    <tr>\n",
       "      <th>Body_mass_index</th>\n",
       "      <td>693.0</td>\n",
       "      <td>26.691198</td>\n",
       "      <td>4.321260</td>\n",
       "      <td>19.000</td>\n",
       "      <td>24.000</td>\n",
       "      <td>25.000</td>\n",
       "      <td>31.000</td>\n",
       "      <td>38.000</td>\n",
       "    </tr>\n",
       "    <tr>\n",
       "      <th>Absenteeism_time_in_hours</th>\n",
       "      <td>693.0</td>\n",
       "      <td>4.311688</td>\n",
       "      <td>3.442483</td>\n",
       "      <td>0.000</td>\n",
       "      <td>2.000</td>\n",
       "      <td>3.000</td>\n",
       "      <td>8.000</td>\n",
       "      <td>16.000</td>\n",
       "    </tr>\n",
       "    <tr>\n",
       "      <th>medical_consult_dummy</th>\n",
       "      <td>693.0</td>\n",
       "      <td>0.215007</td>\n",
       "      <td>0.411124</td>\n",
       "      <td>0.000</td>\n",
       "      <td>0.000</td>\n",
       "      <td>0.000</td>\n",
       "      <td>0.000</td>\n",
       "      <td>1.000</td>\n",
       "    </tr>\n",
       "    <tr>\n",
       "      <th>dental_consult_dummy</th>\n",
       "      <td>693.0</td>\n",
       "      <td>0.160173</td>\n",
       "      <td>0.367031</td>\n",
       "      <td>0.000</td>\n",
       "      <td>0.000</td>\n",
       "      <td>0.000</td>\n",
       "      <td>0.000</td>\n",
       "      <td>1.000</td>\n",
       "    </tr>\n",
       "    <tr>\n",
       "      <th>genitourinary_dummy</th>\n",
       "      <td>693.0</td>\n",
       "      <td>0.024531</td>\n",
       "      <td>0.154803</td>\n",
       "      <td>0.000</td>\n",
       "      <td>0.000</td>\n",
       "      <td>0.000</td>\n",
       "      <td>0.000</td>\n",
       "      <td>1.000</td>\n",
       "    </tr>\n",
       "    <tr>\n",
       "      <th>mon_dummy</th>\n",
       "      <td>693.0</td>\n",
       "      <td>0.207792</td>\n",
       "      <td>0.406020</td>\n",
       "      <td>0.000</td>\n",
       "      <td>0.000</td>\n",
       "      <td>0.000</td>\n",
       "      <td>0.000</td>\n",
       "      <td>1.000</td>\n",
       "    </tr>\n",
       "    <tr>\n",
       "      <th>tue_dummy</th>\n",
       "      <td>693.0</td>\n",
       "      <td>0.207792</td>\n",
       "      <td>0.406020</td>\n",
       "      <td>0.000</td>\n",
       "      <td>0.000</td>\n",
       "      <td>0.000</td>\n",
       "      <td>0.000</td>\n",
       "      <td>1.000</td>\n",
       "    </tr>\n",
       "    <tr>\n",
       "      <th>wed_dummy</th>\n",
       "      <td>693.0</td>\n",
       "      <td>0.204906</td>\n",
       "      <td>0.403925</td>\n",
       "      <td>0.000</td>\n",
       "      <td>0.000</td>\n",
       "      <td>0.000</td>\n",
       "      <td>0.000</td>\n",
       "      <td>1.000</td>\n",
       "    </tr>\n",
       "    <tr>\n",
       "      <th>thu_dummy</th>\n",
       "      <td>693.0</td>\n",
       "      <td>0.178932</td>\n",
       "      <td>0.383572</td>\n",
       "      <td>0.000</td>\n",
       "      <td>0.000</td>\n",
       "      <td>0.000</td>\n",
       "      <td>0.000</td>\n",
       "      <td>1.000</td>\n",
       "    </tr>\n",
       "    <tr>\n",
       "      <th>fri_dummy</th>\n",
       "      <td>693.0</td>\n",
       "      <td>0.200577</td>\n",
       "      <td>0.400721</td>\n",
       "      <td>0.000</td>\n",
       "      <td>0.000</td>\n",
       "      <td>0.000</td>\n",
       "      <td>0.000</td>\n",
       "      <td>1.000</td>\n",
       "    </tr>\n",
       "  </tbody>\n",
       "</table>\n",
       "</div>"
      ],
      "text/plain": [
       "                                 count        mean        std      min  \\\n",
       "ID                               693.0   18.025974  11.095847    1.000   \n",
       "Reason_for_absence               693.0   19.683983   8.378147    0.000   \n",
       "Month_of_absence                 693.0    6.337662   3.429510    1.000   \n",
       "Day_of_the_week                  693.0    3.956710   1.421705    2.000   \n",
       "Seasons                          693.0    2.536797   1.116295    1.000   \n",
       "Transportation_expense           693.0  221.600289  66.421651  118.000   \n",
       "Distance_from_Residence_to_Work  693.0   29.874459  14.875693    5.000   \n",
       "Service_time                     693.0   12.493506   4.437951    1.000   \n",
       "Age                              693.0   36.326118   6.405640   27.000   \n",
       "Work_load_Average/day_           693.0  270.577130  38.438426  205.917   \n",
       "Hit_target                       693.0   94.603175   3.740860   81.000   \n",
       "Disciplinary_failure             693.0    0.057720   0.233382    0.000   \n",
       "Education                        693.0    1.303030   0.684641    1.000   \n",
       "Son                              693.0    1.001443   1.098474    0.000   \n",
       "Social_drinker                   693.0    0.554113   0.497422    0.000   \n",
       "Social_smoker                    693.0    0.075036   0.263640    0.000   \n",
       "Pet                              693.0    0.754690   1.317017    0.000   \n",
       "Weight                           693.0   78.865801  12.859878   56.000   \n",
       "Height                           693.0  171.887446   5.703819  163.000   \n",
       "Body_mass_index                  693.0   26.691198   4.321260   19.000   \n",
       "Absenteeism_time_in_hours        693.0    4.311688   3.442483    0.000   \n",
       "medical_consult_dummy            693.0    0.215007   0.411124    0.000   \n",
       "dental_consult_dummy             693.0    0.160173   0.367031    0.000   \n",
       "genitourinary_dummy              693.0    0.024531   0.154803    0.000   \n",
       "mon_dummy                        693.0    0.207792   0.406020    0.000   \n",
       "tue_dummy                        693.0    0.207792   0.406020    0.000   \n",
       "wed_dummy                        693.0    0.204906   0.403925    0.000   \n",
       "thu_dummy                        693.0    0.178932   0.383572    0.000   \n",
       "fri_dummy                        693.0    0.200577   0.400721    0.000   \n",
       "\n",
       "                                     25%      50%      75%      max  \n",
       "ID                                 9.000   18.000   28.000   36.000  \n",
       "Reason_for_absence                13.000   23.000   27.000   28.000  \n",
       "Month_of_absence                   3.000    6.000    9.000   12.000  \n",
       "Day_of_the_week                    3.000    4.000    5.000    6.000  \n",
       "Seasons                            2.000    3.000    4.000    4.000  \n",
       "Transportation_expense           179.000  225.000  260.000  388.000  \n",
       "Distance_from_Residence_to_Work   16.000   26.000   50.000   52.000  \n",
       "Service_time                       9.000   12.000   16.000   29.000  \n",
       "Age                               31.000   37.000   40.000   58.000  \n",
       "Work_load_Average/day_           244.387  264.249  284.853  378.884  \n",
       "Hit_target                        93.000   95.000   97.000  100.000  \n",
       "Disciplinary_failure               0.000    0.000    0.000    1.000  \n",
       "Education                          1.000    1.000    1.000    4.000  \n",
       "Son                                0.000    1.000    2.000    4.000  \n",
       "Social_drinker                     0.000    1.000    1.000    1.000  \n",
       "Social_smoker                      0.000    0.000    0.000    1.000  \n",
       "Pet                                0.000    0.000    1.000    8.000  \n",
       "Weight                            69.000   80.000   89.000  108.000  \n",
       "Height                           169.000  170.000  172.000  196.000  \n",
       "Body_mass_index                   24.000   25.000   31.000   38.000  \n",
       "Absenteeism_time_in_hours          2.000    3.000    8.000   16.000  \n",
       "medical_consult_dummy              0.000    0.000    0.000    1.000  \n",
       "dental_consult_dummy               0.000    0.000    0.000    1.000  \n",
       "genitourinary_dummy                0.000    0.000    0.000    1.000  \n",
       "mon_dummy                          0.000    0.000    0.000    1.000  \n",
       "tue_dummy                          0.000    0.000    0.000    1.000  \n",
       "wed_dummy                          0.000    0.000    0.000    1.000  \n",
       "thu_dummy                          0.000    0.000    0.000    1.000  \n",
       "fri_dummy                          0.000    0.000    0.000    1.000  "
      ]
     },
     "execution_count": 68,
     "metadata": {},
     "output_type": "execute_result"
    }
   ],
   "source": [
    "df1.describe().T"
   ]
  },
  {
   "cell_type": "markdown",
   "metadata": {},
   "source": [
    "** Diciplinary faillure is our target for the logistic regression **"
   ]
  },
  {
   "cell_type": "code",
   "execution_count": null,
   "metadata": {},
   "outputs": [],
   "source": [
    "from sklearn.linear_model import LogisticRegression\n",
    "logreg = LogisticRegression(C=1e9, solver='lbfgs')\n",
    "feature_cols = ['al']\n",
    "X = glass[feature_cols]\n",
    "y = glass.household\n",
    "logreg.fit(X, y)\n",
    "glass['household_pred_class'] = logreg.predict(X)"
   ]
  },
  {
   "cell_type": "code",
   "execution_count": 88,
   "metadata": {},
   "outputs": [],
   "source": [
    "df1['target_dummy'] = (df1['Hit_target'] > 98).astype(int)"
   ]
  },
  {
   "cell_type": "code",
   "execution_count": 90,
   "metadata": {},
   "outputs": [
    {
     "data": {
      "text/plain": [
       "Index(['ID', 'Reason_for_absence', 'Month_of_absence', 'Day_of_the_week',\n",
       "       'Seasons', 'Transportation_expense', 'Distance_from_Residence_to_Work',\n",
       "       'Service_time', 'Age', 'Work_load_Average/day_', 'Hit_target',\n",
       "       'Disciplinary_failure', 'Education', 'Son', 'Social_drinker',\n",
       "       'Social_smoker', 'Pet', 'Weight', 'Height', 'Body_mass_index',\n",
       "       'Absenteeism_time_in_hours', 'medical_consult_dummy',\n",
       "       'dental_consult_dummy', 'genitourinary_dummy', 'mon_dummy', 'tue_dummy',\n",
       "       'wed_dummy', 'thu_dummy', 'fri_dummy', 'dow_label', 'target_dummy'],\n",
       "      dtype='object')"
      ]
     },
     "execution_count": 90,
     "metadata": {},
     "output_type": "execute_result"
    }
   ],
   "source": [
    "df1.columns"
   ]
  },
  {
   "cell_type": "code",
   "execution_count": 92,
   "metadata": {},
   "outputs": [
    {
     "data": {
      "text/plain": [
       "<seaborn.axisgrid.FacetGrid at 0x1c22667048>"
      ]
     },
     "execution_count": 92,
     "metadata": {},
     "output_type": "execute_result"
    },
    {
     "data": {
      "image/png": "[encoded data removed]",
      "text/plain": [
       "<Figure size 360x360 with 1 Axes>"
      ]
     },
     "metadata": {},
     "output_type": "display_data"
    }
   ],
   "source": [
    "sns.lmplot(x='Work_load_Average/day_', y='target_dummy', data=df1, logistic=True)"
   ]
  },
  {
   "cell_type": "code",
   "execution_count": null,
   "metadata": {},
   "outputs": [],
   "source": []
  },
  {
   "cell_type": "code",
   "execution_count": null,
   "metadata": {},
   "outputs": [],
   "source": []
  },
  {
   "cell_type": "code",
   "execution_count": null,
   "metadata": {},
   "outputs": [],
   "source": []
  },
  {
   "cell_type": "code",
   "execution_count": null,
   "metadata": {},
   "outputs": [],
   "source": []
  },
  {
   "cell_type": "code",
   "execution_count": null,
   "metadata": {},
   "outputs": [],
   "source": []
  },
  {
   "cell_type": "code",
   "execution_count": null,
   "metadata": {},
   "outputs": [],
   "source": []
  }
 ],
 "metadata": {
  "kernelspec": {
   "display_name": "Python 3",
   "language": "python",
   "name": "python3"
  },
  "language_info": {
   "codemirror_mode": {
    "name": "ipython",
    "version": 3
   },
   "file_extension": ".py",
   "mimetype": "text/x-python",
   "name": "python",
   "nbconvert_exporter": "python",
   "pygments_lexer": "ipython3",
   "version": "3.7.4"
  }
 },
 "nbformat": 4,
 "nbformat_minor": 2
}
